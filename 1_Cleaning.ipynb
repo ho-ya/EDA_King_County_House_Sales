{
 "cells": [
  {
   "cell_type": "markdown",
   "metadata": {},
   "source": [
    "# Exploratory Data Analysis of the Kingston Housing Data - Data Cleaning"
   ]
  },
  {
   "cell_type": "markdown",
   "metadata": {},
   "source": [
    "## Data Preprocessing"
   ]
  },
  {
   "cell_type": "markdown",
   "metadata": {},
   "source": [
    "### Imports"
   ]
  },
  {
   "cell_type": "code",
   "execution_count": 1,
   "metadata": {},
   "outputs": [],
   "source": [
    "import numpy as np\n",
    "import pandas as pd\n",
    "import math\n",
    "from plotnine import *\n",
    "import warnings\n",
    "warnings.filterwarnings('ignore')\n",
    "\n",
    "pd.set_option(\"display.max_columns\", None) # no dots (...) in DataFrame columns"
   ]
  },
  {
   "cell_type": "markdown",
   "metadata": {},
   "source": [
    "### An initial look at the Data\n",
    "\n",
    "First, let's load the Kingston housing prices data set and get an overview of the columns."
   ]
  },
  {
   "cell_type": "code",
   "execution_count": 2,
   "metadata": {},
   "outputs": [
    {
     "data": {
      "text/plain": [
       "(21597, 21)"
      ]
     },
     "execution_count": 2,
     "metadata": {},
     "output_type": "execute_result"
    }
   ],
   "source": [
    "# Load the Data Set\n",
    "data = pd.read_csv('King_County_House_prices_dataset.csv')\n",
    "# Get the number of rows and columns\n",
    "data.shape"
   ]
  },
  {
   "cell_type": "code",
   "execution_count": 3,
   "metadata": {},
   "outputs": [
    {
     "data": {
      "text/plain": [
       "Index(['id', 'date', 'price', 'bedrooms', 'bathrooms', 'sqft_living',\n",
       "       'sqft_lot', 'floors', 'waterfront', 'view', 'condition', 'grade',\n",
       "       'sqft_above', 'sqft_basement', 'yr_built', 'yr_renovated', 'zipcode',\n",
       "       'lat', 'long', 'sqft_living15', 'sqft_lot15'],\n",
       "      dtype='object')"
      ]
     },
     "execution_count": 3,
     "metadata": {},
     "output_type": "execute_result"
    }
   ],
   "source": [
    "# Get the column names\n",
    "data.columns"
   ]
  },
  {
   "cell_type": "code",
   "execution_count": 4,
   "metadata": {},
   "outputs": [
    {
     "data": {
      "text/html": [
       "<div>\n",
       "<style scoped>\n",
       "    .dataframe tbody tr th:only-of-type {\n",
       "        vertical-align: middle;\n",
       "    }\n",
       "\n",
       "    .dataframe tbody tr th {\n",
       "        vertical-align: top;\n",
       "    }\n",
       "\n",
       "    .dataframe thead th {\n",
       "        text-align: right;\n",
       "    }\n",
       "</style>\n",
       "<table border=\"1\" class=\"dataframe\">\n",
       "  <thead>\n",
       "    <tr style=\"text-align: right;\">\n",
       "      <th></th>\n",
       "      <th>id</th>\n",
       "      <th>date</th>\n",
       "      <th>price</th>\n",
       "      <th>bedrooms</th>\n",
       "      <th>bathrooms</th>\n",
       "      <th>sqft_living</th>\n",
       "      <th>sqft_lot</th>\n",
       "      <th>floors</th>\n",
       "      <th>waterfront</th>\n",
       "      <th>view</th>\n",
       "      <th>condition</th>\n",
       "      <th>grade</th>\n",
       "      <th>sqft_above</th>\n",
       "      <th>sqft_basement</th>\n",
       "      <th>yr_built</th>\n",
       "      <th>yr_renovated</th>\n",
       "      <th>zipcode</th>\n",
       "      <th>lat</th>\n",
       "      <th>long</th>\n",
       "      <th>sqft_living15</th>\n",
       "      <th>sqft_lot15</th>\n",
       "    </tr>\n",
       "  </thead>\n",
       "  <tbody>\n",
       "    <tr>\n",
       "      <th>18568</th>\n",
       "      <td>9238900850</td>\n",
       "      <td>9/19/2014</td>\n",
       "      <td>688000.0</td>\n",
       "      <td>3</td>\n",
       "      <td>1.50</td>\n",
       "      <td>1760</td>\n",
       "      <td>4880</td>\n",
       "      <td>1.5</td>\n",
       "      <td>0.0</td>\n",
       "      <td>3.0</td>\n",
       "      <td>3</td>\n",
       "      <td>8</td>\n",
       "      <td>1290</td>\n",
       "      <td>470.0</td>\n",
       "      <td>1928</td>\n",
       "      <td>0.0</td>\n",
       "      <td>98136</td>\n",
       "      <td>47.5334</td>\n",
       "      <td>-122.388</td>\n",
       "      <td>1840</td>\n",
       "      <td>4998</td>\n",
       "    </tr>\n",
       "    <tr>\n",
       "      <th>10169</th>\n",
       "      <td>5201000030</td>\n",
       "      <td>3/23/2015</td>\n",
       "      <td>597000.0</td>\n",
       "      <td>4</td>\n",
       "      <td>2.50</td>\n",
       "      <td>2370</td>\n",
       "      <td>41338</td>\n",
       "      <td>2.0</td>\n",
       "      <td>0.0</td>\n",
       "      <td>0.0</td>\n",
       "      <td>3</td>\n",
       "      <td>8</td>\n",
       "      <td>2370</td>\n",
       "      <td>0.0</td>\n",
       "      <td>1995</td>\n",
       "      <td>0.0</td>\n",
       "      <td>98077</td>\n",
       "      <td>47.7379</td>\n",
       "      <td>-122.052</td>\n",
       "      <td>2340</td>\n",
       "      <td>46661</td>\n",
       "    </tr>\n",
       "    <tr>\n",
       "      <th>4465</th>\n",
       "      <td>3335000025</td>\n",
       "      <td>11/12/2014</td>\n",
       "      <td>468000.0</td>\n",
       "      <td>3</td>\n",
       "      <td>2.00</td>\n",
       "      <td>1570</td>\n",
       "      <td>6300</td>\n",
       "      <td>1.0</td>\n",
       "      <td>0.0</td>\n",
       "      <td>0.0</td>\n",
       "      <td>3</td>\n",
       "      <td>7</td>\n",
       "      <td>820</td>\n",
       "      <td>750.0</td>\n",
       "      <td>1953</td>\n",
       "      <td>2005.0</td>\n",
       "      <td>98118</td>\n",
       "      <td>47.5565</td>\n",
       "      <td>-122.275</td>\n",
       "      <td>1510</td>\n",
       "      <td>4281</td>\n",
       "    </tr>\n",
       "    <tr>\n",
       "      <th>4304</th>\n",
       "      <td>7853340490</td>\n",
       "      <td>6/17/2014</td>\n",
       "      <td>386000.0</td>\n",
       "      <td>2</td>\n",
       "      <td>2.50</td>\n",
       "      <td>1620</td>\n",
       "      <td>3196</td>\n",
       "      <td>2.0</td>\n",
       "      <td>0.0</td>\n",
       "      <td>0.0</td>\n",
       "      <td>3</td>\n",
       "      <td>8</td>\n",
       "      <td>1620</td>\n",
       "      <td>0.0</td>\n",
       "      <td>2008</td>\n",
       "      <td>NaN</td>\n",
       "      <td>98065</td>\n",
       "      <td>47.5167</td>\n",
       "      <td>-121.878</td>\n",
       "      <td>1750</td>\n",
       "      <td>2828</td>\n",
       "    </tr>\n",
       "    <tr>\n",
       "      <th>19654</th>\n",
       "      <td>745530240</td>\n",
       "      <td>12/26/2014</td>\n",
       "      <td>865950.0</td>\n",
       "      <td>5</td>\n",
       "      <td>3.50</td>\n",
       "      <td>4890</td>\n",
       "      <td>12039</td>\n",
       "      <td>2.0</td>\n",
       "      <td>0.0</td>\n",
       "      <td>0.0</td>\n",
       "      <td>3</td>\n",
       "      <td>9</td>\n",
       "      <td>3590</td>\n",
       "      <td>1300.0</td>\n",
       "      <td>2014</td>\n",
       "      <td>0.0</td>\n",
       "      <td>98011</td>\n",
       "      <td>47.7338</td>\n",
       "      <td>-122.208</td>\n",
       "      <td>4590</td>\n",
       "      <td>10079</td>\n",
       "    </tr>\n",
       "    <tr>\n",
       "      <th>1805</th>\n",
       "      <td>2025770560</td>\n",
       "      <td>11/3/2014</td>\n",
       "      <td>930000.0</td>\n",
       "      <td>4</td>\n",
       "      <td>4.25</td>\n",
       "      <td>5710</td>\n",
       "      <td>24663</td>\n",
       "      <td>2.0</td>\n",
       "      <td>0.0</td>\n",
       "      <td>0.0</td>\n",
       "      <td>3</td>\n",
       "      <td>11</td>\n",
       "      <td>5710</td>\n",
       "      <td>0.0</td>\n",
       "      <td>2007</td>\n",
       "      <td>0.0</td>\n",
       "      <td>98092</td>\n",
       "      <td>47.3065</td>\n",
       "      <td>-122.158</td>\n",
       "      <td>4060</td>\n",
       "      <td>23847</td>\n",
       "    </tr>\n",
       "    <tr>\n",
       "      <th>13091</th>\n",
       "      <td>546000865</td>\n",
       "      <td>9/19/2014</td>\n",
       "      <td>556000.0</td>\n",
       "      <td>3</td>\n",
       "      <td>1.00</td>\n",
       "      <td>1800</td>\n",
       "      <td>4005</td>\n",
       "      <td>1.5</td>\n",
       "      <td>0.0</td>\n",
       "      <td>0.0</td>\n",
       "      <td>4</td>\n",
       "      <td>7</td>\n",
       "      <td>1160</td>\n",
       "      <td>640.0</td>\n",
       "      <td>1929</td>\n",
       "      <td>NaN</td>\n",
       "      <td>98117</td>\n",
       "      <td>47.6876</td>\n",
       "      <td>-122.380</td>\n",
       "      <td>1240</td>\n",
       "      <td>4005</td>\n",
       "    </tr>\n",
       "    <tr>\n",
       "      <th>17223</th>\n",
       "      <td>9276200190</td>\n",
       "      <td>4/16/2015</td>\n",
       "      <td>569950.0</td>\n",
       "      <td>5</td>\n",
       "      <td>1.00</td>\n",
       "      <td>1420</td>\n",
       "      <td>6250</td>\n",
       "      <td>1.5</td>\n",
       "      <td>0.0</td>\n",
       "      <td>0.0</td>\n",
       "      <td>4</td>\n",
       "      <td>8</td>\n",
       "      <td>1420</td>\n",
       "      <td>0.0</td>\n",
       "      <td>1926</td>\n",
       "      <td>0.0</td>\n",
       "      <td>98116</td>\n",
       "      <td>47.5807</td>\n",
       "      <td>-122.389</td>\n",
       "      <td>1420</td>\n",
       "      <td>6250</td>\n",
       "    </tr>\n",
       "    <tr>\n",
       "      <th>623</th>\n",
       "      <td>461001615</td>\n",
       "      <td>2/25/2015</td>\n",
       "      <td>605000.0</td>\n",
       "      <td>2</td>\n",
       "      <td>1.75</td>\n",
       "      <td>1760</td>\n",
       "      <td>5000</td>\n",
       "      <td>1.0</td>\n",
       "      <td>0.0</td>\n",
       "      <td>0.0</td>\n",
       "      <td>4</td>\n",
       "      <td>7</td>\n",
       "      <td>940</td>\n",
       "      <td>820.0</td>\n",
       "      <td>1927</td>\n",
       "      <td>NaN</td>\n",
       "      <td>98117</td>\n",
       "      <td>47.6820</td>\n",
       "      <td>-122.372</td>\n",
       "      <td>1530</td>\n",
       "      <td>5000</td>\n",
       "    </tr>\n",
       "    <tr>\n",
       "      <th>19341</th>\n",
       "      <td>808300180</td>\n",
       "      <td>2/11/2015</td>\n",
       "      <td>454000.0</td>\n",
       "      <td>4</td>\n",
       "      <td>2.50</td>\n",
       "      <td>3040</td>\n",
       "      <td>12522</td>\n",
       "      <td>2.0</td>\n",
       "      <td>0.0</td>\n",
       "      <td>0.0</td>\n",
       "      <td>3</td>\n",
       "      <td>7</td>\n",
       "      <td>3040</td>\n",
       "      <td>0.0</td>\n",
       "      <td>2000</td>\n",
       "      <td>NaN</td>\n",
       "      <td>98019</td>\n",
       "      <td>47.7247</td>\n",
       "      <td>-121.959</td>\n",
       "      <td>2490</td>\n",
       "      <td>9742</td>\n",
       "    </tr>\n",
       "  </tbody>\n",
       "</table>\n",
       "</div>"
      ],
      "text/plain": [
       "               id        date     price  bedrooms  bathrooms  sqft_living  \\\n",
       "18568  9238900850   9/19/2014  688000.0         3       1.50         1760   \n",
       "10169  5201000030   3/23/2015  597000.0         4       2.50         2370   \n",
       "4465   3335000025  11/12/2014  468000.0         3       2.00         1570   \n",
       "4304   7853340490   6/17/2014  386000.0         2       2.50         1620   \n",
       "19654   745530240  12/26/2014  865950.0         5       3.50         4890   \n",
       "1805   2025770560   11/3/2014  930000.0         4       4.25         5710   \n",
       "13091   546000865   9/19/2014  556000.0         3       1.00         1800   \n",
       "17223  9276200190   4/16/2015  569950.0         5       1.00         1420   \n",
       "623     461001615   2/25/2015  605000.0         2       1.75         1760   \n",
       "19341   808300180   2/11/2015  454000.0         4       2.50         3040   \n",
       "\n",
       "       sqft_lot  floors  waterfront  view  condition  grade  sqft_above  \\\n",
       "18568      4880     1.5         0.0   3.0          3      8        1290   \n",
       "10169     41338     2.0         0.0   0.0          3      8        2370   \n",
       "4465       6300     1.0         0.0   0.0          3      7         820   \n",
       "4304       3196     2.0         0.0   0.0          3      8        1620   \n",
       "19654     12039     2.0         0.0   0.0          3      9        3590   \n",
       "1805      24663     2.0         0.0   0.0          3     11        5710   \n",
       "13091      4005     1.5         0.0   0.0          4      7        1160   \n",
       "17223      6250     1.5         0.0   0.0          4      8        1420   \n",
       "623        5000     1.0         0.0   0.0          4      7         940   \n",
       "19341     12522     2.0         0.0   0.0          3      7        3040   \n",
       "\n",
       "      sqft_basement  yr_built  yr_renovated  zipcode      lat     long  \\\n",
       "18568         470.0      1928           0.0    98136  47.5334 -122.388   \n",
       "10169           0.0      1995           0.0    98077  47.7379 -122.052   \n",
       "4465          750.0      1953        2005.0    98118  47.5565 -122.275   \n",
       "4304            0.0      2008           NaN    98065  47.5167 -121.878   \n",
       "19654        1300.0      2014           0.0    98011  47.7338 -122.208   \n",
       "1805            0.0      2007           0.0    98092  47.3065 -122.158   \n",
       "13091         640.0      1929           NaN    98117  47.6876 -122.380   \n",
       "17223           0.0      1926           0.0    98116  47.5807 -122.389   \n",
       "623           820.0      1927           NaN    98117  47.6820 -122.372   \n",
       "19341           0.0      2000           NaN    98019  47.7247 -121.959   \n",
       "\n",
       "       sqft_living15  sqft_lot15  \n",
       "18568           1840        4998  \n",
       "10169           2340       46661  \n",
       "4465            1510        4281  \n",
       "4304            1750        2828  \n",
       "19654           4590       10079  \n",
       "1805            4060       23847  \n",
       "13091           1240        4005  \n",
       "17223           1420        6250  \n",
       "623             1530        5000  \n",
       "19341           2490        9742  "
      ]
     },
     "execution_count": 4,
     "metadata": {},
     "output_type": "execute_result"
    }
   ],
   "source": [
    "# Get a feel for the Data with a sample\n",
    "data.sample(10)"
   ]
  },
  {
   "cell_type": "code",
   "execution_count": 5,
   "metadata": {},
   "outputs": [
    {
     "name": "stdout",
     "output_type": "stream",
     "text": [
      "<class 'pandas.core.frame.DataFrame'>\n",
      "RangeIndex: 21597 entries, 0 to 21596\n",
      "Data columns (total 21 columns):\n",
      " #   Column         Non-Null Count  Dtype  \n",
      "---  ------         --------------  -----  \n",
      " 0   id             21597 non-null  int64  \n",
      " 1   date           21597 non-null  object \n",
      " 2   price          21597 non-null  float64\n",
      " 3   bedrooms       21597 non-null  int64  \n",
      " 4   bathrooms      21597 non-null  float64\n",
      " 5   sqft_living    21597 non-null  int64  \n",
      " 6   sqft_lot       21597 non-null  int64  \n",
      " 7   floors         21597 non-null  float64\n",
      " 8   waterfront     19221 non-null  float64\n",
      " 9   view           21534 non-null  float64\n",
      " 10  condition      21597 non-null  int64  \n",
      " 11  grade          21597 non-null  int64  \n",
      " 12  sqft_above     21597 non-null  int64  \n",
      " 13  sqft_basement  21597 non-null  object \n",
      " 14  yr_built       21597 non-null  int64  \n",
      " 15  yr_renovated   17755 non-null  float64\n",
      " 16  zipcode        21597 non-null  int64  \n",
      " 17  lat            21597 non-null  float64\n",
      " 18  long           21597 non-null  float64\n",
      " 19  sqft_living15  21597 non-null  int64  \n",
      " 20  sqft_lot15     21597 non-null  int64  \n",
      "dtypes: float64(8), int64(11), object(2)\n",
      "memory usage: 3.5+ MB\n"
     ]
    }
   ],
   "source": [
    "# Some info on the datatypes\n",
    "data.info()\n",
    "# There are only non-null values. We won't have to check for that in the future"
   ]
  },
  {
   "cell_type": "markdown",
   "metadata": {},
   "source": [
    "### Examining and Cleaning the Data - One Column at a time\n",
    "\n",
    "There are 21 columns in this Data Set. Before we can explore the relationship between various variables we need to make sense of what they actually represent - and if there are missing/nonsensical values or other problems with them.\n",
    "\n",
    "To make sense of the column names, we will also consult the attached file 'column_names.md'.\n",
    "\n",
    "Let's go over every column:\n",
    "\n",
    "**Column 1 - 'id'**\n",
    "\n",
    "The file 'column_names.md' defines id as a unique identifier for a house. Let's take a look at the data."
   ]
  },
  {
   "cell_type": "code",
   "execution_count": 6,
   "metadata": {},
   "outputs": [
    {
     "data": {
      "text/plain": [
       "(1000102, 9900000190)"
      ]
     },
     "execution_count": 6,
     "metadata": {},
     "output_type": "execute_result"
    }
   ],
   "source": [
    "# get the range of id\n",
    "data.id.min(), data.id.max()"
   ]
  },
  {
   "cell_type": "code",
   "execution_count": 7,
   "metadata": {},
   "outputs": [
    {
     "data": {
      "text/plain": [
       "(21420, 21597)"
      ]
     },
     "execution_count": 7,
     "metadata": {},
     "output_type": "execute_result"
    }
   ],
   "source": [
    "# Is the id really unique for every row?\n",
    "data.id.nunique(), len(data.index)"
   ]
  },
  {
   "cell_type": "code",
   "execution_count": 8,
   "metadata": {},
   "outputs": [
    {
     "data": {
      "text/plain": [
       "False"
      ]
     },
     "execution_count": 8,
     "metadata": {},
     "output_type": "execute_result"
    }
   ],
   "source": [
    "# No, some houses seem to be included multiple times. \n",
    "# This could mean that someone accidentily put in the exact same row multiple times.\n",
    "# Let's check for this case.\n",
    "data.duplicated().any()"
   ]
  },
  {
   "cell_type": "code",
   "execution_count": 9,
   "metadata": {},
   "outputs": [
    {
     "data": {
      "text/plain": [
       "3"
      ]
     },
     "execution_count": 9,
     "metadata": {},
     "output_type": "execute_result"
    }
   ],
   "source": [
    "# There are no duplicated rows\n",
    "# It would appear that some houses were simply sold more than once.\n",
    "# These houses could have undergone changes or a different price could have been paid for the exact same house.\n",
    "# Since all of this is relevant information for our evaluation of housing prices and none of the entries are\n",
    "# obviously faulty, we will keep all rows for now.\n",
    "\n",
    "# What is the maximum number a id is duplicated in the Data Frame\n",
    "data[data.duplicated(subset=['id'],keep=False)].pivot_table(index = ['id'], aggfunc ='size').max()"
   ]
  },
  {
   "cell_type": "markdown",
   "metadata": {},
   "source": [
    "The variable **id** (nominal) is a unique identifier for a house. The number of digits in an **id** varies. A small number of houses seem to be sold more than once, but none are sold more than three times. \n",
    "\n",
    "**Column 2 - 'date'**"
   ]
  },
  {
   "cell_type": "code",
   "execution_count": 10,
   "metadata": {},
   "outputs": [
    {
     "data": {
      "text/plain": [
       "False"
      ]
     },
     "execution_count": 10,
     "metadata": {},
     "output_type": "execute_result"
    }
   ],
   "source": [
    "# From our sample in the beginning we can conclude that the notation is (d)d/(m)m/yyyy\n",
    "# Let's check wether any value is a non-Date\n",
    "pd.to_datetime(data.date, errors='coerce').isna().any()"
   ]
  },
  {
   "cell_type": "code",
   "execution_count": 11,
   "metadata": {},
   "outputs": [
    {
     "data": {
      "text/plain": [
       "(Timestamp('2014-05-02 00:00:00'), Timestamp('2015-05-27 00:00:00'))"
      ]
     },
     "execution_count": 11,
     "metadata": {},
     "output_type": "execute_result"
    }
   ],
   "source": [
    "# When was the data collected?\n",
    "pd.to_datetime(data.date, errors='coerce').min(), pd.to_datetime(data.date, errors='coerce').max()"
   ]
  },
  {
   "cell_type": "code",
   "execution_count": 12,
   "metadata": {},
   "outputs": [],
   "source": [
    "# Let's convert the data to timestamps\n",
    "data['date'] = pd.to_datetime(data.date)"
   ]
  },
  {
   "cell_type": "markdown",
   "metadata": {},
   "source": [
    "The variable **date** (can either be treated as ordinal or interval) specifies the Date a house was sold. The Data in this set was collected from 2014-05-02 to 2015-05-27. \n",
    "\n",
    "**Column 3 - 'price'**"
   ]
  },
  {
   "cell_type": "code",
   "execution_count": 13,
   "metadata": {},
   "outputs": [
    {
     "data": {
      "text/plain": [
       "(78000.0, 7700000.0, 450000.0)"
      ]
     },
     "execution_count": 13,
     "metadata": {},
     "output_type": "execute_result"
    }
   ],
   "source": [
    "# We already know there a no nulls or non-float values\n",
    "data.price.min(), data.price.max(), data.price.median()"
   ]
  },
  {
   "cell_type": "code",
   "execution_count": 14,
   "metadata": {},
   "outputs": [
    {
     "data": {
      "image/png": "[encoded data removed]",
      "text/plain": [
       "<Figure size 432x288 with 1 Axes>"
      ]
     },
     "metadata": {
      "needs_background": "light"
     },
     "output_type": "display_data"
    }
   ],
   "source": [
    "# What do the prices look like?\n",
    "data.price.plot.hist(bins=50);"
   ]
  },
  {
   "cell_type": "code",
   "execution_count": 15,
   "metadata": {
    "scrolled": true
   },
   "outputs": [
    {
     "data": {
      "text/plain": [
       "price\n",
       "(0, 2000000]          21399\n",
       "(2000000, 3000000]      153\n",
       "(3000000, 4000000]       34\n",
       "(4000000, 5000000]        4\n",
       "(5000000, 6000000]        4\n",
       "(6000000, 7000000]        1\n",
       "(7000000, 8000000]        2\n",
       "Name: price, dtype: int64"
      ]
     },
     "execution_count": 15,
     "metadata": {},
     "output_type": "execute_result"
    }
   ],
   "source": [
    "# The prices are skewed to the right. Most houses are priced up to a million dollars\n",
    "# Only a few houses are worth more than 2 million dollars\n",
    "# How many super expensive outliers are there?\n",
    "data.groupby(pd.cut(data.price, [i * (10**6) for i in [0, 2, 3, 4, 5, 6, 7, 8]])).price.count()"
   ]
  },
  {
   "cell_type": "code",
   "execution_count": 16,
   "metadata": {},
   "outputs": [],
   "source": [
    "# In total there are only 11 houses above 4,000,000 dollars\n",
    "# There are 2 houses above $ 7,000,000"
   ]
  },
  {
   "cell_type": "markdown",
   "metadata": {},
   "source": [
    "The variable **price** (ratio) denotes the price a house sold for. This variable will be our prediction target for this study. The prices of houses ranges from \\\\$78,000 to \\\\$7,700,000, although more than 99% of houses are in the \\\\$78,0000 to \\\\$2,000,000 range.\n",
    "\n",
    "**Column 4 - 'bedrooms'**\n",
    "\n"
   ]
  },
  {
   "cell_type": "code",
   "execution_count": 17,
   "metadata": {},
   "outputs": [
    {
     "data": {
      "text/plain": [
       "(1, 33, 3.0)"
      ]
     },
     "execution_count": 17,
     "metadata": {},
     "output_type": "execute_result"
    }
   ],
   "source": [
    "data.bedrooms.min(), data.bedrooms.max(), data.bedrooms.median()"
   ]
  },
  {
   "cell_type": "code",
   "execution_count": 18,
   "metadata": {},
   "outputs": [
    {
     "data": {
      "text/plain": [
       "bedrooms\n",
       "(1, 2]       2760\n",
       "(2, 4]      16706\n",
       "(4, 8]       1924\n",
       "(8, 12]        10\n",
       "(12, 33]        1\n",
       "Name: bedrooms, dtype: int64"
      ]
     },
     "execution_count": 18,
     "metadata": {},
     "output_type": "execute_result"
    }
   ],
   "source": [
    "# What, 33 bedrooms?  \n",
    "# This might be an outlier\n",
    "data.groupby(pd.cut(data.bedrooms, [1,2,4,8,12, 33])).bedrooms.count()\n"
   ]
  },
  {
   "cell_type": "code",
   "execution_count": 19,
   "metadata": {},
   "outputs": [
    {
     "data": {
      "text/html": [
       "<div>\n",
       "<style scoped>\n",
       "    .dataframe tbody tr th:only-of-type {\n",
       "        vertical-align: middle;\n",
       "    }\n",
       "\n",
       "    .dataframe tbody tr th {\n",
       "        vertical-align: top;\n",
       "    }\n",
       "\n",
       "    .dataframe thead th {\n",
       "        text-align: right;\n",
       "    }\n",
       "</style>\n",
       "<table border=\"1\" class=\"dataframe\">\n",
       "  <thead>\n",
       "    <tr style=\"text-align: right;\">\n",
       "      <th></th>\n",
       "      <th>id</th>\n",
       "      <th>date</th>\n",
       "      <th>price</th>\n",
       "      <th>bedrooms</th>\n",
       "      <th>bathrooms</th>\n",
       "      <th>sqft_living</th>\n",
       "      <th>sqft_lot</th>\n",
       "      <th>floors</th>\n",
       "      <th>waterfront</th>\n",
       "      <th>view</th>\n",
       "      <th>condition</th>\n",
       "      <th>grade</th>\n",
       "      <th>sqft_above</th>\n",
       "      <th>sqft_basement</th>\n",
       "      <th>yr_built</th>\n",
       "      <th>yr_renovated</th>\n",
       "      <th>zipcode</th>\n",
       "      <th>lat</th>\n",
       "      <th>long</th>\n",
       "      <th>sqft_living15</th>\n",
       "      <th>sqft_lot15</th>\n",
       "    </tr>\n",
       "  </thead>\n",
       "  <tbody>\n",
       "    <tr>\n",
       "      <th>15856</th>\n",
       "      <td>2402100895</td>\n",
       "      <td>2014-06-25</td>\n",
       "      <td>640000.0</td>\n",
       "      <td>33</td>\n",
       "      <td>1.75</td>\n",
       "      <td>1620</td>\n",
       "      <td>6000</td>\n",
       "      <td>1.0</td>\n",
       "      <td>0.0</td>\n",
       "      <td>0.0</td>\n",
       "      <td>5</td>\n",
       "      <td>7</td>\n",
       "      <td>1040</td>\n",
       "      <td>580.0</td>\n",
       "      <td>1947</td>\n",
       "      <td>0.0</td>\n",
       "      <td>98103</td>\n",
       "      <td>47.6878</td>\n",
       "      <td>-122.331</td>\n",
       "      <td>1330</td>\n",
       "      <td>4700</td>\n",
       "    </tr>\n",
       "  </tbody>\n",
       "</table>\n",
       "</div>"
      ],
      "text/plain": [
       "               id       date     price  bedrooms  bathrooms  sqft_living  \\\n",
       "15856  2402100895 2014-06-25  640000.0        33       1.75         1620   \n",
       "\n",
       "       sqft_lot  floors  waterfront  view  condition  grade  sqft_above  \\\n",
       "15856      6000     1.0         0.0   0.0          5      7        1040   \n",
       "\n",
       "      sqft_basement  yr_built  yr_renovated  zipcode      lat     long  \\\n",
       "15856         580.0      1947           0.0    98103  47.6878 -122.331   \n",
       "\n",
       "       sqft_living15  sqft_lot15  \n",
       "15856           1330        4700  "
      ]
     },
     "execution_count": 19,
     "metadata": {},
     "output_type": "execute_result"
    }
   ],
   "source": [
    "# No other house has more than 12 bedrooms, but it could maybe be an old hospital or similar\n",
    "# Let's look at that particular house\n",
    "data[data.bedrooms == 33]"
   ]
  },
  {
   "cell_type": "code",
   "execution_count": 20,
   "metadata": {},
   "outputs": [
    {
     "data": {
      "text/plain": [
       "11"
      ]
     },
     "execution_count": 20,
     "metadata": {},
     "output_type": "execute_result"
    }
   ],
   "source": [
    "# Its neither very expensive nor big enough to actually have that many bedrooms\n",
    "# 33 could be a typo, whoever entered the data might have had their finger stuck on 3\n",
    "# Since we have a plethora of other observations we will simpl delete that row\n",
    "data.drop(15856, inplace = True)\n",
    "data.bedrooms.max()"
   ]
  },
  {
   "cell_type": "markdown",
   "metadata": {},
   "source": [
    "The variable **bedrooms** (ratio) expresses the number of bedrooms. It ranges from 1 to 11.\n",
    "\n",
    "**Column 5 - 'bathrooms'**"
   ]
  },
  {
   "cell_type": "code",
   "execution_count": 21,
   "metadata": {},
   "outputs": [
    {
     "data": {
      "text/plain": [
       "(0.5, 8.0, 2.25)"
      ]
     },
     "execution_count": 21,
     "metadata": {},
     "output_type": "execute_result"
    }
   ],
   "source": [
    "data.bathrooms.min(), data.bathrooms.max(), data.bathrooms.median()"
   ]
  },
  {
   "cell_type": "code",
   "execution_count": 22,
   "metadata": {},
   "outputs": [
    {
     "data": {
      "image/png": "[encoded data removed]",
      "text/plain": [
       "<Figure size 432x288 with 1 Axes>"
      ]
     },
     "metadata": {
      "needs_background": "light"
     },
     "output_type": "display_data"
    }
   ],
   "source": [
    "data.bathrooms.hist(bins=20); # Nothing seems out of the ordingary"
   ]
  },
  {
   "cell_type": "markdown",
   "metadata": {},
   "source": [
    "The variable **bathrooms** (can be treated as either ordinal or intervall) contains the number of bathrooms. There also exist 0.5 and 0.75 bathrooms as well as multiples of those numbers. A 0.5 bathroom is a bathroom with only a toilet and sink. A 0.75 bathroom is a bathroom with only a toilet, sink and shower (no bathtub).\n",
    "\n",
    "**Column 6 - 'sqft_living'**"
   ]
  },
  {
   "cell_type": "code",
   "execution_count": 23,
   "metadata": {},
   "outputs": [
    {
     "data": {
      "text/plain": [
       "(370, 13540, 1910.0)"
      ]
     },
     "execution_count": 23,
     "metadata": {},
     "output_type": "execute_result"
    }
   ],
   "source": [
    "data.sqft_living.min(), data.sqft_living.max(), data.sqft_living.median()"
   ]
  },
  {
   "cell_type": "code",
   "execution_count": 24,
   "metadata": {},
   "outputs": [
    {
     "data": {
      "image/png": "[encoded data removed]",
      "text/plain": [
       "<Figure size 432x288 with 1 Axes>"
      ]
     },
     "metadata": {
      "needs_background": "light"
     },
     "output_type": "display_data"
    }
   ],
   "source": [
    "data.sqft_living.hist(bins=20);"
   ]
  },
  {
   "cell_type": "code",
   "execution_count": 25,
   "metadata": {},
   "outputs": [
    {
     "data": {
      "text/plain": [
       "sqft_living\n",
       "(1, 4000]        20814\n",
       "(4000, 8000]       773\n",
       "(8000, 14000]        9\n",
       "Name: sqft_living, dtype: int64"
      ]
     },
     "execution_count": 25,
     "metadata": {},
     "output_type": "execute_result"
    }
   ],
   "source": [
    "data.groupby(pd.cut(data.sqft_living, [1,4000,8000,14000])).sqft_living.count()"
   ]
  },
  {
   "cell_type": "code",
   "execution_count": 26,
   "metadata": {},
   "outputs": [
    {
     "data": {
      "text/html": [
       "<div>\n",
       "<style scoped>\n",
       "    .dataframe tbody tr th:only-of-type {\n",
       "        vertical-align: middle;\n",
       "    }\n",
       "\n",
       "    .dataframe tbody tr th {\n",
       "        vertical-align: top;\n",
       "    }\n",
       "\n",
       "    .dataframe thead th {\n",
       "        text-align: right;\n",
       "    }\n",
       "</style>\n",
       "<table border=\"1\" class=\"dataframe\">\n",
       "  <thead>\n",
       "    <tr style=\"text-align: right;\">\n",
       "      <th></th>\n",
       "      <th>id</th>\n",
       "      <th>date</th>\n",
       "      <th>price</th>\n",
       "      <th>bedrooms</th>\n",
       "      <th>bathrooms</th>\n",
       "      <th>sqft_living</th>\n",
       "      <th>sqft_lot</th>\n",
       "      <th>floors</th>\n",
       "      <th>waterfront</th>\n",
       "      <th>view</th>\n",
       "      <th>condition</th>\n",
       "      <th>grade</th>\n",
       "      <th>sqft_above</th>\n",
       "      <th>sqft_basement</th>\n",
       "      <th>yr_built</th>\n",
       "      <th>yr_renovated</th>\n",
       "      <th>zipcode</th>\n",
       "      <th>lat</th>\n",
       "      <th>long</th>\n",
       "      <th>sqft_living15</th>\n",
       "      <th>sqft_lot15</th>\n",
       "    </tr>\n",
       "  </thead>\n",
       "  <tbody>\n",
       "    <tr>\n",
       "      <th>1162</th>\n",
       "      <td>1247600105</td>\n",
       "      <td>2014-10-20</td>\n",
       "      <td>5110000.0</td>\n",
       "      <td>5</td>\n",
       "      <td>5.25</td>\n",
       "      <td>8010</td>\n",
       "      <td>45517</td>\n",
       "      <td>2.0</td>\n",
       "      <td>1.0</td>\n",
       "      <td>4.0</td>\n",
       "      <td>3</td>\n",
       "      <td>12</td>\n",
       "      <td>5990</td>\n",
       "      <td>2020.0</td>\n",
       "      <td>1999</td>\n",
       "      <td>0.0</td>\n",
       "      <td>98033</td>\n",
       "      <td>47.6767</td>\n",
       "      <td>-122.211</td>\n",
       "      <td>3430</td>\n",
       "      <td>26788</td>\n",
       "    </tr>\n",
       "    <tr>\n",
       "      <th>3910</th>\n",
       "      <td>9808700762</td>\n",
       "      <td>2014-06-11</td>\n",
       "      <td>7060000.0</td>\n",
       "      <td>5</td>\n",
       "      <td>4.50</td>\n",
       "      <td>10040</td>\n",
       "      <td>37325</td>\n",
       "      <td>2.0</td>\n",
       "      <td>1.0</td>\n",
       "      <td>2.0</td>\n",
       "      <td>3</td>\n",
       "      <td>11</td>\n",
       "      <td>7680</td>\n",
       "      <td>2360.0</td>\n",
       "      <td>1940</td>\n",
       "      <td>2001.0</td>\n",
       "      <td>98004</td>\n",
       "      <td>47.6500</td>\n",
       "      <td>-122.214</td>\n",
       "      <td>3930</td>\n",
       "      <td>25449</td>\n",
       "    </tr>\n",
       "    <tr>\n",
       "      <th>4407</th>\n",
       "      <td>2470100110</td>\n",
       "      <td>2014-08-04</td>\n",
       "      <td>5570000.0</td>\n",
       "      <td>5</td>\n",
       "      <td>5.75</td>\n",
       "      <td>9200</td>\n",
       "      <td>35069</td>\n",
       "      <td>2.0</td>\n",
       "      <td>0.0</td>\n",
       "      <td>0.0</td>\n",
       "      <td>3</td>\n",
       "      <td>13</td>\n",
       "      <td>6200</td>\n",
       "      <td>3000.0</td>\n",
       "      <td>2001</td>\n",
       "      <td>NaN</td>\n",
       "      <td>98039</td>\n",
       "      <td>47.6289</td>\n",
       "      <td>-122.233</td>\n",
       "      <td>3560</td>\n",
       "      <td>24345</td>\n",
       "    </tr>\n",
       "    <tr>\n",
       "      <th>7245</th>\n",
       "      <td>6762700020</td>\n",
       "      <td>2014-10-13</td>\n",
       "      <td>7700000.0</td>\n",
       "      <td>6</td>\n",
       "      <td>8.00</td>\n",
       "      <td>12050</td>\n",
       "      <td>27600</td>\n",
       "      <td>2.5</td>\n",
       "      <td>0.0</td>\n",
       "      <td>3.0</td>\n",
       "      <td>4</td>\n",
       "      <td>13</td>\n",
       "      <td>8570</td>\n",
       "      <td>3480.0</td>\n",
       "      <td>1910</td>\n",
       "      <td>1987.0</td>\n",
       "      <td>98102</td>\n",
       "      <td>47.6298</td>\n",
       "      <td>-122.323</td>\n",
       "      <td>3940</td>\n",
       "      <td>8800</td>\n",
       "    </tr>\n",
       "    <tr>\n",
       "      <th>8085</th>\n",
       "      <td>1924059029</td>\n",
       "      <td>2014-06-17</td>\n",
       "      <td>4670000.0</td>\n",
       "      <td>5</td>\n",
       "      <td>6.75</td>\n",
       "      <td>9640</td>\n",
       "      <td>13068</td>\n",
       "      <td>1.0</td>\n",
       "      <td>1.0</td>\n",
       "      <td>4.0</td>\n",
       "      <td>3</td>\n",
       "      <td>12</td>\n",
       "      <td>4820</td>\n",
       "      <td>4820.0</td>\n",
       "      <td>1983</td>\n",
       "      <td>2009.0</td>\n",
       "      <td>98040</td>\n",
       "      <td>47.5570</td>\n",
       "      <td>-122.210</td>\n",
       "      <td>3270</td>\n",
       "      <td>10454</td>\n",
       "    </tr>\n",
       "    <tr>\n",
       "      <th>9245</th>\n",
       "      <td>9208900037</td>\n",
       "      <td>2014-09-19</td>\n",
       "      <td>6890000.0</td>\n",
       "      <td>6</td>\n",
       "      <td>7.75</td>\n",
       "      <td>9890</td>\n",
       "      <td>31374</td>\n",
       "      <td>2.0</td>\n",
       "      <td>0.0</td>\n",
       "      <td>4.0</td>\n",
       "      <td>3</td>\n",
       "      <td>13</td>\n",
       "      <td>8860</td>\n",
       "      <td>1030.0</td>\n",
       "      <td>2001</td>\n",
       "      <td>0.0</td>\n",
       "      <td>98039</td>\n",
       "      <td>47.6305</td>\n",
       "      <td>-122.240</td>\n",
       "      <td>4540</td>\n",
       "      <td>42730</td>\n",
       "    </tr>\n",
       "    <tr>\n",
       "      <th>12764</th>\n",
       "      <td>1225069038</td>\n",
       "      <td>2014-05-05</td>\n",
       "      <td>2280000.0</td>\n",
       "      <td>7</td>\n",
       "      <td>8.00</td>\n",
       "      <td>13540</td>\n",
       "      <td>307752</td>\n",
       "      <td>3.0</td>\n",
       "      <td>0.0</td>\n",
       "      <td>4.0</td>\n",
       "      <td>3</td>\n",
       "      <td>12</td>\n",
       "      <td>9410</td>\n",
       "      <td>4130.0</td>\n",
       "      <td>1999</td>\n",
       "      <td>0.0</td>\n",
       "      <td>98053</td>\n",
       "      <td>47.6675</td>\n",
       "      <td>-121.986</td>\n",
       "      <td>4850</td>\n",
       "      <td>217800</td>\n",
       "    </tr>\n",
       "    <tr>\n",
       "      <th>14542</th>\n",
       "      <td>2303900035</td>\n",
       "      <td>2014-06-11</td>\n",
       "      <td>2890000.0</td>\n",
       "      <td>5</td>\n",
       "      <td>6.25</td>\n",
       "      <td>8670</td>\n",
       "      <td>64033</td>\n",
       "      <td>2.0</td>\n",
       "      <td>0.0</td>\n",
       "      <td>4.0</td>\n",
       "      <td>3</td>\n",
       "      <td>13</td>\n",
       "      <td>6120</td>\n",
       "      <td>2550.0</td>\n",
       "      <td>1965</td>\n",
       "      <td>NaN</td>\n",
       "      <td>98177</td>\n",
       "      <td>47.7295</td>\n",
       "      <td>-122.372</td>\n",
       "      <td>4140</td>\n",
       "      <td>81021</td>\n",
       "    </tr>\n",
       "    <tr>\n",
       "      <th>18288</th>\n",
       "      <td>6072800246</td>\n",
       "      <td>2014-07-02</td>\n",
       "      <td>3300000.0</td>\n",
       "      <td>5</td>\n",
       "      <td>6.25</td>\n",
       "      <td>8020</td>\n",
       "      <td>21738</td>\n",
       "      <td>2.0</td>\n",
       "      <td>0.0</td>\n",
       "      <td>0.0</td>\n",
       "      <td>3</td>\n",
       "      <td>11</td>\n",
       "      <td>8020</td>\n",
       "      <td>0.0</td>\n",
       "      <td>2001</td>\n",
       "      <td>NaN</td>\n",
       "      <td>98006</td>\n",
       "      <td>47.5675</td>\n",
       "      <td>-122.189</td>\n",
       "      <td>4160</td>\n",
       "      <td>18969</td>\n",
       "    </tr>\n",
       "  </tbody>\n",
       "</table>\n",
       "</div>"
      ],
      "text/plain": [
       "               id       date      price  bedrooms  bathrooms  sqft_living  \\\n",
       "1162   1247600105 2014-10-20  5110000.0         5       5.25         8010   \n",
       "3910   9808700762 2014-06-11  7060000.0         5       4.50        10040   \n",
       "4407   2470100110 2014-08-04  5570000.0         5       5.75         9200   \n",
       "7245   6762700020 2014-10-13  7700000.0         6       8.00        12050   \n",
       "8085   1924059029 2014-06-17  4670000.0         5       6.75         9640   \n",
       "9245   9208900037 2014-09-19  6890000.0         6       7.75         9890   \n",
       "12764  1225069038 2014-05-05  2280000.0         7       8.00        13540   \n",
       "14542  2303900035 2014-06-11  2890000.0         5       6.25         8670   \n",
       "18288  6072800246 2014-07-02  3300000.0         5       6.25         8020   \n",
       "\n",
       "       sqft_lot  floors  waterfront  view  condition  grade  sqft_above  \\\n",
       "1162      45517     2.0         1.0   4.0          3     12        5990   \n",
       "3910      37325     2.0         1.0   2.0          3     11        7680   \n",
       "4407      35069     2.0         0.0   0.0          3     13        6200   \n",
       "7245      27600     2.5         0.0   3.0          4     13        8570   \n",
       "8085      13068     1.0         1.0   4.0          3     12        4820   \n",
       "9245      31374     2.0         0.0   4.0          3     13        8860   \n",
       "12764    307752     3.0         0.0   4.0          3     12        9410   \n",
       "14542     64033     2.0         0.0   4.0          3     13        6120   \n",
       "18288     21738     2.0         0.0   0.0          3     11        8020   \n",
       "\n",
       "      sqft_basement  yr_built  yr_renovated  zipcode      lat     long  \\\n",
       "1162         2020.0      1999           0.0    98033  47.6767 -122.211   \n",
       "3910         2360.0      1940        2001.0    98004  47.6500 -122.214   \n",
       "4407         3000.0      2001           NaN    98039  47.6289 -122.233   \n",
       "7245         3480.0      1910        1987.0    98102  47.6298 -122.323   \n",
       "8085         4820.0      1983        2009.0    98040  47.5570 -122.210   \n",
       "9245         1030.0      2001           0.0    98039  47.6305 -122.240   \n",
       "12764        4130.0      1999           0.0    98053  47.6675 -121.986   \n",
       "14542        2550.0      1965           NaN    98177  47.7295 -122.372   \n",
       "18288           0.0      2001           NaN    98006  47.5675 -122.189   \n",
       "\n",
       "       sqft_living15  sqft_lot15  \n",
       "1162            3430       26788  \n",
       "3910            3930       25449  \n",
       "4407            3560       24345  \n",
       "7245            3940        8800  \n",
       "8085            3270       10454  \n",
       "9245            4540       42730  \n",
       "12764           4850      217800  \n",
       "14542           4140       81021  \n",
       "18288           4160       18969  "
      ]
     },
     "execution_count": 26,
     "metadata": {},
     "output_type": "execute_result"
    }
   ],
   "source": [
    "data[data.sqft_living > 8000] # This seems realistic"
   ]
  },
  {
   "cell_type": "markdown",
   "metadata": {},
   "source": [
    "The variable **sqft_living** (ratio) is the area of the living space in square feet (1 square foot = 0,093 square metres).\n",
    "\n",
    "**Column 7 - 'sqft_lots'**"
   ]
  },
  {
   "cell_type": "code",
   "execution_count": 27,
   "metadata": {},
   "outputs": [
    {
     "data": {
      "text/plain": [
       "(520, 1651359, 7619.0)"
      ]
     },
     "execution_count": 27,
     "metadata": {},
     "output_type": "execute_result"
    }
   ],
   "source": [
    "data.sqft_lot.min(), data.sqft_lot.max(), data.sqft_lot.median()"
   ]
  },
  {
   "cell_type": "code",
   "execution_count": 28,
   "metadata": {
    "scrolled": true
   },
   "outputs": [
    {
     "data": {
      "image/png": "[encoded data removed]",
      "text/plain": [
       "<Figure size 432x288 with 1 Axes>"
      ]
     },
     "metadata": {
      "needs_background": "light"
     },
     "output_type": "display_data"
    }
   ],
   "source": [
    "data.sqft_lot.hist(bins=40); # like most of the data, sqft_lot is right skewed"
   ]
  },
  {
   "cell_type": "markdown",
   "metadata": {},
   "source": [
    "The variable **sqft_lot** (ratio) is the are of the lot in square feet.\n",
    "\n",
    "**Column 8 - 'floors'**"
   ]
  },
  {
   "cell_type": "code",
   "execution_count": 29,
   "metadata": {},
   "outputs": [
    {
     "data": {
      "text/plain": [
       "1.0    10672\n",
       "2.0     8235\n",
       "1.5     1910\n",
       "3.0      611\n",
       "2.5      161\n",
       "3.5        7\n",
       "Name: floors, dtype: int64"
      ]
     },
     "execution_count": 29,
     "metadata": {},
     "output_type": "execute_result"
    }
   ],
   "source": [
    "data.floors.value_counts()"
   ]
  },
  {
   "cell_type": "code",
   "execution_count": 30,
   "metadata": {},
   "outputs": [
    {
     "data": {
      "image/png": "[encoded data removed]",
      "text/plain": [
       "<Figure size 432x288 with 1 Axes>"
      ]
     },
     "metadata": {
      "needs_background": "light"
     },
     "output_type": "display_data"
    }
   ],
   "source": [
    "data.floors.hist();"
   ]
  },
  {
   "cell_type": "markdown",
   "metadata": {},
   "source": [
    "The **floors** (ordnial) variable tracks the number of floors in a house. Half floors are possible. It is not defined what constitutes a half floor. They may be attics, balconies etc. and will ne kept in the data for now.\n",
    "\n",
    "**Column 9 - 'waterfront'**"
   ]
  },
  {
   "cell_type": "code",
   "execution_count": 31,
   "metadata": {},
   "outputs": [
    {
     "data": {
      "text/plain": [
       "0.0    19074\n",
       "NaN     2376\n",
       "1.0      146\n",
       "Name: waterfront, dtype: int64"
      ]
     },
     "execution_count": 31,
     "metadata": {},
     "output_type": "execute_result"
    }
   ],
   "source": [
    "data.waterfront.value_counts(dropna = False)"
   ]
  },
  {
   "cell_type": "code",
   "execution_count": 32,
   "metadata": {},
   "outputs": [],
   "source": [
    "# There are NaN - values in this column\n",
    "# We will leave them in for now but have to be mindful of that in the future"
   ]
  },
  {
   "cell_type": "markdown",
   "metadata": {},
   "source": [
    "The **waterfront** variable (dichotomous) identifies whether a house has a view to a waterfront. For some houses this is not tracked (NaN).\n",
    "\n",
    "**Column 10 - 'view'**\n"
   ]
  },
  {
   "cell_type": "code",
   "execution_count": 33,
   "metadata": {},
   "outputs": [
    {
     "data": {
      "text/plain": [
       "0.0    19421\n",
       "2.0      957\n",
       "3.0      508\n",
       "1.0      330\n",
       "4.0      317\n",
       "NaN       63\n",
       "Name: view, dtype: int64"
      ]
     },
     "execution_count": 33,
     "metadata": {},
     "output_type": "execute_result"
    }
   ],
   "source": [
    "data.view.value_counts(dropna = False)"
   ]
  },
  {
   "cell_type": "code",
   "execution_count": 34,
   "metadata": {},
   "outputs": [
    {
     "data": {
      "image/png": "[encoded data removed]",
      "text/plain": [
       "<Figure size 432x288 with 1 Axes>"
      ]
     },
     "metadata": {
      "needs_background": "light"
     },
     "output_type": "display_data"
    }
   ],
   "source": [
    "data.plot.scatter(y='price', x='view');"
   ]
  },
  {
   "cell_type": "markdown",
   "metadata": {},
   "source": [
    "It is unclear what the **view** variable represents. It could be the number of times the property has been viewed, hower that would mean that almost all of the houses sold without being viewd which is highly unlikely. It could be some sort of grading system, either of the view of the house, the view from the house or the meeting/viewing with the house owner. **view** == 0 could mean that the view was not graded or it could be a grade itself. Since it not clear at all what this variable means and also since it does not have a clear impact on the price, the column will be discarded."
   ]
  },
  {
   "cell_type": "code",
   "execution_count": 35,
   "metadata": {},
   "outputs": [],
   "source": [
    "data.drop('view', axis=1, inplace=True)"
   ]
  },
  {
   "cell_type": "markdown",
   "metadata": {},
   "source": [
    "**Column 11 - 'condition'**"
   ]
  },
  {
   "cell_type": "code",
   "execution_count": 36,
   "metadata": {},
   "outputs": [
    {
     "data": {
      "text/plain": [
       "(1, 5, 3.0)"
      ]
     },
     "execution_count": 36,
     "metadata": {},
     "output_type": "execute_result"
    }
   ],
   "source": [
    "data.condition.min(), data.condition.max(), data.condition.median()"
   ]
  },
  {
   "cell_type": "code",
   "execution_count": 37,
   "metadata": {},
   "outputs": [
    {
     "data": {
      "text/plain": [
       "3    14020\n",
       "4     5677\n",
       "5     1700\n",
       "2      170\n",
       "1       29\n",
       "Name: condition, dtype: int64"
      ]
     },
     "execution_count": 37,
     "metadata": {},
     "output_type": "execute_result"
    }
   ],
   "source": [
    "data.condition.value_counts(dropna = False)"
   ]
  },
  {
   "cell_type": "code",
   "execution_count": 38,
   "metadata": {},
   "outputs": [
    {
     "data": {
      "image/png": "[encoded data removed]",
      "text/plain": [
       "<Figure size 432x288 with 1 Axes>"
      ]
     },
     "metadata": {
      "needs_background": "light"
     },
     "output_type": "display_data"
    }
   ],
   "source": [
    "data.plot.scatter(y='price', x='condition');"
   ]
  },
  {
   "cell_type": "code",
   "execution_count": 39,
   "metadata": {},
   "outputs": [
    {
     "data": {
      "text/plain": [
       "condition\n",
       "1    270000.0\n",
       "2    279000.0\n",
       "3    450250.0\n",
       "4    440000.0\n",
       "5    525944.0\n",
       "Name: price, dtype: float64"
      ]
     },
     "execution_count": 39,
     "metadata": {},
     "output_type": "execute_result"
    }
   ],
   "source": [
    "data.groupby('condition').median().price"
   ]
  },
  {
   "cell_type": "markdown",
   "metadata": {},
   "source": [
    "The **condition** variable (ordinal) is a grading on how good the overall condition of the house is. It ranges from 1 (worst) to 5 (best). Every house has a condition grade.\n",
    "\n",
    "**Column 12 - 'grade'**"
   ]
  },
  {
   "cell_type": "code",
   "execution_count": 40,
   "metadata": {},
   "outputs": [
    {
     "data": {
      "text/plain": [
       "(3, 13, 7.0, False)"
      ]
     },
     "execution_count": 40,
     "metadata": {},
     "output_type": "execute_result"
    }
   ],
   "source": [
    "data.grade.min(), data.grade.max(), data.grade.median(), data.grade.isnull().values.any()"
   ]
  },
  {
   "cell_type": "code",
   "execution_count": 41,
   "metadata": {},
   "outputs": [
    {
     "data": {
      "image/png": "[encoded data removed]",
      "text/plain": [
       "<Figure size 432x288 with 1 Axes>"
      ]
     },
     "metadata": {
      "needs_background": "light"
     },
     "output_type": "display_data"
    }
   ],
   "source": [
    "data.grade.hist();"
   ]
  },
  {
   "cell_type": "markdown",
   "metadata": {},
   "source": [
    "According to [info.kingcounty.gov](https://info.kingcounty.gov/assessor/esales/Glossary.aspx?type=r) the building grade represents the construction quality of improvements. It ranges from 1 to 13, hower houses with grade 1 to 3 fall short of minimum building standards. Since there are no missing values, the **grade** variable (ordinal) in this set most likely represents the construction quality in general. In the dataset we have grades from 3 to 13.\n",
    "\n",
    "**Column 13 & 14 - 'sqft_above', 'sqft_basement'**"
   ]
  },
  {
   "cell_type": "code",
   "execution_count": 42,
   "metadata": {},
   "outputs": [
    {
     "data": {
      "text/plain": [
       "('0.0', '?')"
      ]
     },
     "execution_count": 42,
     "metadata": {},
     "output_type": "execute_result"
    }
   ],
   "source": [
    "data.sqft_basement.min(), data.sqft_basement.max()"
   ]
  },
  {
   "cell_type": "code",
   "execution_count": 43,
   "metadata": {},
   "outputs": [],
   "source": [
    "# Replace the '?'-Strings with NaN\n",
    "data.sqft_basement = data.sqft_basement.replace('?', np.NaN).astype('float64')"
   ]
  },
  {
   "cell_type": "code",
   "execution_count": 44,
   "metadata": {},
   "outputs": [
    {
     "data": {
      "text/html": [
       "<div>\n",
       "<style scoped>\n",
       "    .dataframe tbody tr th:only-of-type {\n",
       "        vertical-align: middle;\n",
       "    }\n",
       "\n",
       "    .dataframe tbody tr th {\n",
       "        vertical-align: top;\n",
       "    }\n",
       "\n",
       "    .dataframe thead th {\n",
       "        text-align: right;\n",
       "    }\n",
       "</style>\n",
       "<table border=\"1\" class=\"dataframe\">\n",
       "  <thead>\n",
       "    <tr style=\"text-align: right;\">\n",
       "      <th></th>\n",
       "      <th>id</th>\n",
       "      <th>date</th>\n",
       "      <th>price</th>\n",
       "      <th>bedrooms</th>\n",
       "      <th>bathrooms</th>\n",
       "      <th>sqft_living</th>\n",
       "      <th>sqft_lot</th>\n",
       "      <th>floors</th>\n",
       "      <th>waterfront</th>\n",
       "      <th>condition</th>\n",
       "      <th>grade</th>\n",
       "      <th>sqft_above</th>\n",
       "      <th>sqft_basement</th>\n",
       "      <th>yr_built</th>\n",
       "      <th>yr_renovated</th>\n",
       "      <th>zipcode</th>\n",
       "      <th>lat</th>\n",
       "      <th>long</th>\n",
       "      <th>sqft_living15</th>\n",
       "      <th>sqft_lot15</th>\n",
       "    </tr>\n",
       "  </thead>\n",
       "  <tbody>\n",
       "    <tr>\n",
       "      <th>112</th>\n",
       "      <td>2525310310</td>\n",
       "      <td>2014-09-16</td>\n",
       "      <td>272500.0</td>\n",
       "      <td>3</td>\n",
       "      <td>1.75</td>\n",
       "      <td>1540</td>\n",
       "      <td>12600</td>\n",
       "      <td>1.0</td>\n",
       "      <td>0.0</td>\n",
       "      <td>4</td>\n",
       "      <td>7</td>\n",
       "      <td>1160</td>\n",
       "      <td>NaN</td>\n",
       "      <td>1980</td>\n",
       "      <td>0.0</td>\n",
       "      <td>98038</td>\n",
       "      <td>47.3624</td>\n",
       "      <td>-122.031</td>\n",
       "      <td>1540</td>\n",
       "      <td>11656</td>\n",
       "    </tr>\n",
       "    <tr>\n",
       "      <th>115</th>\n",
       "      <td>3626039325</td>\n",
       "      <td>2014-11-21</td>\n",
       "      <td>740500.0</td>\n",
       "      <td>3</td>\n",
       "      <td>3.50</td>\n",
       "      <td>4380</td>\n",
       "      <td>6350</td>\n",
       "      <td>2.0</td>\n",
       "      <td>0.0</td>\n",
       "      <td>3</td>\n",
       "      <td>8</td>\n",
       "      <td>2780</td>\n",
       "      <td>NaN</td>\n",
       "      <td>1900</td>\n",
       "      <td>NaN</td>\n",
       "      <td>98117</td>\n",
       "      <td>47.6981</td>\n",
       "      <td>-122.368</td>\n",
       "      <td>1830</td>\n",
       "      <td>6350</td>\n",
       "    </tr>\n",
       "    <tr>\n",
       "      <th>309</th>\n",
       "      <td>3204800200</td>\n",
       "      <td>2015-01-08</td>\n",
       "      <td>665000.0</td>\n",
       "      <td>4</td>\n",
       "      <td>2.75</td>\n",
       "      <td>3320</td>\n",
       "      <td>10574</td>\n",
       "      <td>2.0</td>\n",
       "      <td>NaN</td>\n",
       "      <td>5</td>\n",
       "      <td>8</td>\n",
       "      <td>2220</td>\n",
       "      <td>NaN</td>\n",
       "      <td>1960</td>\n",
       "      <td>0.0</td>\n",
       "      <td>98056</td>\n",
       "      <td>47.5376</td>\n",
       "      <td>-122.180</td>\n",
       "      <td>2720</td>\n",
       "      <td>8330</td>\n",
       "    </tr>\n",
       "    <tr>\n",
       "      <th>384</th>\n",
       "      <td>713500030</td>\n",
       "      <td>2014-07-28</td>\n",
       "      <td>1350000.0</td>\n",
       "      <td>5</td>\n",
       "      <td>3.50</td>\n",
       "      <td>4800</td>\n",
       "      <td>14984</td>\n",
       "      <td>2.0</td>\n",
       "      <td>0.0</td>\n",
       "      <td>3</td>\n",
       "      <td>11</td>\n",
       "      <td>3480</td>\n",
       "      <td>NaN</td>\n",
       "      <td>1998</td>\n",
       "      <td>0.0</td>\n",
       "      <td>98006</td>\n",
       "      <td>47.5543</td>\n",
       "      <td>-122.148</td>\n",
       "      <td>4050</td>\n",
       "      <td>19009</td>\n",
       "    </tr>\n",
       "    <tr>\n",
       "      <th>508</th>\n",
       "      <td>5113400431</td>\n",
       "      <td>2014-05-08</td>\n",
       "      <td>615000.0</td>\n",
       "      <td>2</td>\n",
       "      <td>1.00</td>\n",
       "      <td>1540</td>\n",
       "      <td>6872</td>\n",
       "      <td>1.0</td>\n",
       "      <td>0.0</td>\n",
       "      <td>4</td>\n",
       "      <td>7</td>\n",
       "      <td>820</td>\n",
       "      <td>NaN</td>\n",
       "      <td>1946</td>\n",
       "      <td>0.0</td>\n",
       "      <td>98119</td>\n",
       "      <td>47.6454</td>\n",
       "      <td>-122.373</td>\n",
       "      <td>1420</td>\n",
       "      <td>5538</td>\n",
       "    </tr>\n",
       "    <tr>\n",
       "      <th>...</th>\n",
       "      <td>...</td>\n",
       "      <td>...</td>\n",
       "      <td>...</td>\n",
       "      <td>...</td>\n",
       "      <td>...</td>\n",
       "      <td>...</td>\n",
       "      <td>...</td>\n",
       "      <td>...</td>\n",
       "      <td>...</td>\n",
       "      <td>...</td>\n",
       "      <td>...</td>\n",
       "      <td>...</td>\n",
       "      <td>...</td>\n",
       "      <td>...</td>\n",
       "      <td>...</td>\n",
       "      <td>...</td>\n",
       "      <td>...</td>\n",
       "      <td>...</td>\n",
       "      <td>...</td>\n",
       "      <td>...</td>\n",
       "    </tr>\n",
       "    <tr>\n",
       "      <th>21000</th>\n",
       "      <td>291310180</td>\n",
       "      <td>2014-06-13</td>\n",
       "      <td>379500.0</td>\n",
       "      <td>3</td>\n",
       "      <td>2.25</td>\n",
       "      <td>1410</td>\n",
       "      <td>1287</td>\n",
       "      <td>2.0</td>\n",
       "      <td>0.0</td>\n",
       "      <td>3</td>\n",
       "      <td>7</td>\n",
       "      <td>1290</td>\n",
       "      <td>NaN</td>\n",
       "      <td>2005</td>\n",
       "      <td>0.0</td>\n",
       "      <td>98027</td>\n",
       "      <td>47.5344</td>\n",
       "      <td>-122.068</td>\n",
       "      <td>1490</td>\n",
       "      <td>1435</td>\n",
       "    </tr>\n",
       "    <tr>\n",
       "      <th>21109</th>\n",
       "      <td>3438500250</td>\n",
       "      <td>2014-06-23</td>\n",
       "      <td>515000.0</td>\n",
       "      <td>5</td>\n",
       "      <td>3.25</td>\n",
       "      <td>2910</td>\n",
       "      <td>5027</td>\n",
       "      <td>2.0</td>\n",
       "      <td>0.0</td>\n",
       "      <td>3</td>\n",
       "      <td>8</td>\n",
       "      <td>2040</td>\n",
       "      <td>NaN</td>\n",
       "      <td>2013</td>\n",
       "      <td>0.0</td>\n",
       "      <td>98106</td>\n",
       "      <td>47.5543</td>\n",
       "      <td>-122.359</td>\n",
       "      <td>2910</td>\n",
       "      <td>5027</td>\n",
       "    </tr>\n",
       "    <tr>\n",
       "      <th>21210</th>\n",
       "      <td>3278600680</td>\n",
       "      <td>2014-06-27</td>\n",
       "      <td>235000.0</td>\n",
       "      <td>1</td>\n",
       "      <td>1.50</td>\n",
       "      <td>1170</td>\n",
       "      <td>1456</td>\n",
       "      <td>2.0</td>\n",
       "      <td>0.0</td>\n",
       "      <td>3</td>\n",
       "      <td>8</td>\n",
       "      <td>1070</td>\n",
       "      <td>NaN</td>\n",
       "      <td>2007</td>\n",
       "      <td>0.0</td>\n",
       "      <td>98126</td>\n",
       "      <td>47.5493</td>\n",
       "      <td>-122.372</td>\n",
       "      <td>1360</td>\n",
       "      <td>1730</td>\n",
       "    </tr>\n",
       "    <tr>\n",
       "      <th>21356</th>\n",
       "      <td>6169901185</td>\n",
       "      <td>2014-05-20</td>\n",
       "      <td>490000.0</td>\n",
       "      <td>5</td>\n",
       "      <td>3.50</td>\n",
       "      <td>4460</td>\n",
       "      <td>2975</td>\n",
       "      <td>3.0</td>\n",
       "      <td>0.0</td>\n",
       "      <td>3</td>\n",
       "      <td>10</td>\n",
       "      <td>3280</td>\n",
       "      <td>NaN</td>\n",
       "      <td>2015</td>\n",
       "      <td>NaN</td>\n",
       "      <td>98119</td>\n",
       "      <td>47.6313</td>\n",
       "      <td>-122.370</td>\n",
       "      <td>2490</td>\n",
       "      <td>4231</td>\n",
       "    </tr>\n",
       "    <tr>\n",
       "      <th>21442</th>\n",
       "      <td>3226049565</td>\n",
       "      <td>2014-07-11</td>\n",
       "      <td>504600.0</td>\n",
       "      <td>5</td>\n",
       "      <td>3.00</td>\n",
       "      <td>2360</td>\n",
       "      <td>5000</td>\n",
       "      <td>1.0</td>\n",
       "      <td>0.0</td>\n",
       "      <td>3</td>\n",
       "      <td>7</td>\n",
       "      <td>1390</td>\n",
       "      <td>NaN</td>\n",
       "      <td>2008</td>\n",
       "      <td>0.0</td>\n",
       "      <td>98103</td>\n",
       "      <td>47.6931</td>\n",
       "      <td>-122.330</td>\n",
       "      <td>2180</td>\n",
       "      <td>5009</td>\n",
       "    </tr>\n",
       "  </tbody>\n",
       "</table>\n",
       "<p>170 rows × 20 columns</p>\n",
       "</div>"
      ],
      "text/plain": [
       "               id       date      price  bedrooms  bathrooms  sqft_living  \\\n",
       "112    2525310310 2014-09-16   272500.0         3       1.75         1540   \n",
       "115    3626039325 2014-11-21   740500.0         3       3.50         4380   \n",
       "309    3204800200 2015-01-08   665000.0         4       2.75         3320   \n",
       "384     713500030 2014-07-28  1350000.0         5       3.50         4800   \n",
       "508    5113400431 2014-05-08   615000.0         2       1.00         1540   \n",
       "...           ...        ...        ...       ...        ...          ...   \n",
       "21000   291310180 2014-06-13   379500.0         3       2.25         1410   \n",
       "21109  3438500250 2014-06-23   515000.0         5       3.25         2910   \n",
       "21210  3278600680 2014-06-27   235000.0         1       1.50         1170   \n",
       "21356  6169901185 2014-05-20   490000.0         5       3.50         4460   \n",
       "21442  3226049565 2014-07-11   504600.0         5       3.00         2360   \n",
       "\n",
       "       sqft_lot  floors  waterfront  condition  grade  sqft_above  \\\n",
       "112       12600     1.0         0.0          4      7        1160   \n",
       "115        6350     2.0         0.0          3      8        2780   \n",
       "309       10574     2.0         NaN          5      8        2220   \n",
       "384       14984     2.0         0.0          3     11        3480   \n",
       "508        6872     1.0         0.0          4      7         820   \n",
       "...         ...     ...         ...        ...    ...         ...   \n",
       "21000      1287     2.0         0.0          3      7        1290   \n",
       "21109      5027     2.0         0.0          3      8        2040   \n",
       "21210      1456     2.0         0.0          3      8        1070   \n",
       "21356      2975     3.0         0.0          3     10        3280   \n",
       "21442      5000     1.0         0.0          3      7        1390   \n",
       "\n",
       "       sqft_basement  yr_built  yr_renovated  zipcode      lat     long  \\\n",
       "112              NaN      1980           0.0    98038  47.3624 -122.031   \n",
       "115              NaN      1900           NaN    98117  47.6981 -122.368   \n",
       "309              NaN      1960           0.0    98056  47.5376 -122.180   \n",
       "384              NaN      1998           0.0    98006  47.5543 -122.148   \n",
       "508              NaN      1946           0.0    98119  47.6454 -122.373   \n",
       "...              ...       ...           ...      ...      ...      ...   \n",
       "21000            NaN      2005           0.0    98027  47.5344 -122.068   \n",
       "21109            NaN      2013           0.0    98106  47.5543 -122.359   \n",
       "21210            NaN      2007           0.0    98126  47.5493 -122.372   \n",
       "21356            NaN      2015           NaN    98119  47.6313 -122.370   \n",
       "21442            NaN      2008           0.0    98103  47.6931 -122.330   \n",
       "\n",
       "       sqft_living15  sqft_lot15  \n",
       "112             1540       11656  \n",
       "115             1830        6350  \n",
       "309             2720        8330  \n",
       "384             4050       19009  \n",
       "508             1420        5538  \n",
       "...              ...         ...  \n",
       "21000           1490        1435  \n",
       "21109           2910        5027  \n",
       "21210           1360        1730  \n",
       "21356           2490        4231  \n",
       "21442           2180        5009  \n",
       "\n",
       "[170 rows x 20 columns]"
      ]
     },
     "execution_count": 44,
     "metadata": {},
     "output_type": "execute_result"
    }
   ],
   "source": [
    "# Check if the sqft_above column can be expressed with the other columns\n",
    "# First, get all rows where sqft_above is not equal to sqft_living - sqft_basement\n",
    "data[data.sqft_living - data.sqft_basement.fillna(0) != data.sqft_above]"
   ]
  },
  {
   "cell_type": "code",
   "execution_count": 45,
   "metadata": {},
   "outputs": [],
   "source": [
    "# Apart from 170 rows where this is not the case, sqft_above is simply the difference of sqft_living and sqft_basement\n",
    "# 1 Variable can thus be expresses through the other 2\n",
    "# Since this is the case in an overwhelmingly large percentage of rows we run the risk of multicolinearity\n",
    "# Because of that we delete the 'sqft_above'-column, as we will not use it in our model\n",
    "data.drop('sqft_above', axis = 1, inplace = True)\n",
    "\n",
    "# An explanation for the 170 counter examples could be that the basement simply was not filled in correctly\n",
    "# because in most of these cases sqft_living was smaller than sqft_above"
   ]
  },
  {
   "cell_type": "code",
   "execution_count": 46,
   "metadata": {},
   "outputs": [
    {
     "data": {
      "image/png": "[encoded data removed]",
      "text/plain": [
       "<Figure size 432x288 with 1 Axes>"
      ]
     },
     "metadata": {
      "needs_background": "light"
     },
     "output_type": "display_data"
    }
   ],
   "source": [
    "data.sqft_basement.hist(bins = 40); # most houses do not have a basement"
   ]
  },
  {
   "cell_type": "markdown",
   "metadata": {},
   "source": [
    "The variable **sqft_basement** (ratio) denotes the size of the basement in square feet. Most houses do not have a basement. The column **sqft_above** was deleted from the data, as it did not contain any new information and would introduce multicolinearity in our model.\n",
    "\n",
    "**Column 15 - 'yr_built'**"
   ]
  },
  {
   "cell_type": "code",
   "execution_count": 47,
   "metadata": {},
   "outputs": [
    {
     "data": {
      "text/plain": [
       "(1900, 2015, 1975.0)"
      ]
     },
     "execution_count": 47,
     "metadata": {},
     "output_type": "execute_result"
    }
   ],
   "source": [
    "data.yr_built.min(), data.yr_built.max(), data.yr_built.median()"
   ]
  },
  {
   "cell_type": "code",
   "execution_count": 48,
   "metadata": {},
   "outputs": [
    {
     "data": {
      "image/png": "[encoded data removed]",
      "text/plain": [
       "<Figure size 432x288 with 1 Axes>"
      ]
     },
     "metadata": {
      "needs_background": "light"
     },
     "output_type": "display_data"
    }
   ],
   "source": [
    "data.yr_built.hist(bins=20);"
   ]
  },
  {
   "cell_type": "markdown",
   "metadata": {},
   "source": [
    "The **yr_built** variable (interval) is the year the house was built. \n",
    "\n",
    "**Column 16 - 'yr_renovated'**"
   ]
  },
  {
   "cell_type": "code",
   "execution_count": 49,
   "metadata": {},
   "outputs": [
    {
     "data": {
      "text/plain": [
       "(0.0, 2015.0, 0.0)"
      ]
     },
     "execution_count": 49,
     "metadata": {},
     "output_type": "execute_result"
    }
   ],
   "source": [
    "data.yr_renovated.min(), data.yr_renovated.max(), data.yr_renovated.median()"
   ]
  },
  {
   "cell_type": "code",
   "execution_count": 50,
   "metadata": {},
   "outputs": [
    {
     "data": {
      "text/plain": [
       "0.0       17010\n",
       "NaN        3842\n",
       "2014.0       73\n",
       "2003.0       31\n",
       "2013.0       31\n",
       "          ...  \n",
       "1944.0        1\n",
       "1948.0        1\n",
       "1976.0        1\n",
       "1934.0        1\n",
       "1953.0        1\n",
       "Name: yr_renovated, Length: 71, dtype: int64"
      ]
     },
     "execution_count": 50,
     "metadata": {},
     "output_type": "execute_result"
    }
   ],
   "source": [
    "data.yr_renovated.value_counts(dropna = False)"
   ]
  },
  {
   "cell_type": "code",
   "execution_count": 51,
   "metadata": {},
   "outputs": [
    {
     "data": {
      "image/png": "[encoded data removed]",
      "text/plain": [
       "<Figure size 432x288 with 1 Axes>"
      ]
     },
     "metadata": {
      "needs_background": "light"
     },
     "output_type": "display_data"
    }
   ],
   "source": [
    "data.yr_renovated.hist();"
   ]
  },
  {
   "cell_type": "code",
   "execution_count": 52,
   "metadata": {},
   "outputs": [
    {
     "data": {
      "image/png": "[encoded data removed]",
      "text/plain": [
       "<Figure size 432x288 with 1 Axes>"
      ]
     },
     "metadata": {
      "needs_background": "light"
     },
     "output_type": "display_data"
    }
   ],
   "source": [
    "data.plot.scatter(x='yr_renovated', y='price');"
   ]
  },
  {
   "cell_type": "code",
   "execution_count": 53,
   "metadata": {},
   "outputs": [],
   "source": [
    "# We could replace all zeroes with NaNs, since year zero does not make any sense for a regression model\n",
    "# We would however then mix the old NaNs ('we do not know whether the house was renovated')\n",
    "# with the zero-values ('we know the house was never renovated')\n",
    "\n",
    "# We also know that less than 5 % of houses have been renovated for sure\n",
    "# And of those we only know of the last time since only the last time is tracked as a year\n",
    "# Thus a regression with this factor might not be that useful\n",
    "# We will drop the column\n",
    "data.drop('yr_renovated', axis = 1, inplace = True)"
   ]
  },
  {
   "cell_type": "markdown",
   "metadata": {},
   "source": [
    "The **yr_renovated** variable (interval) tracks the last time a house has been renovated. Based on the sparse values of this factor it may not be maintained and tracked very well. The small amount of non-zero values is not really suitable for regression.\n",
    "\n",
    "**Column 17 - 'zipcode'**\n"
   ]
  },
  {
   "cell_type": "code",
   "execution_count": 54,
   "metadata": {},
   "outputs": [
    {
     "data": {
      "text/plain": [
       "(98001, 98199)"
      ]
     },
     "execution_count": 54,
     "metadata": {},
     "output_type": "execute_result"
    }
   ],
   "source": [
    "data.zipcode.min(), data.zipcode.max()"
   ]
  },
  {
   "cell_type": "code",
   "execution_count": 55,
   "metadata": {},
   "outputs": [
    {
     "data": {
      "text/plain": [
       "70"
      ]
     },
     "execution_count": 55,
     "metadata": {},
     "output_type": "execute_result"
    }
   ],
   "source": [
    "data.zipcode.nunique()"
   ]
  },
  {
   "cell_type": "code",
   "execution_count": 56,
   "metadata": {},
   "outputs": [
    {
     "data": {
      "image/png": "[encoded data removed]",
      "text/plain": [
       "<Figure size 432x288 with 1 Axes>"
      ]
     },
     "metadata": {
      "needs_background": "light"
     },
     "output_type": "display_data"
    }
   ],
   "source": [
    "data.zipcode.hist(bins=20);"
   ]
  },
  {
   "cell_type": "markdown",
   "metadata": {},
   "source": [
    "The **zipcode** variable (in this case nominal) is the zipcode of the adress. The dataset includes 70 different zipcodes between 98001 and 98199. Although a nominal variable with 70 different values may be unsuited for a regression model, there are other interesting things we can do with it.\n",
    "\n",
    "**Column 18 & 19 - 'lat' & 'long'**"
   ]
  },
  {
   "cell_type": "code",
   "execution_count": 57,
   "metadata": {},
   "outputs": [
    {
     "data": {
      "text/plain": [
       "(47.1559, 47.7776)"
      ]
     },
     "execution_count": 57,
     "metadata": {},
     "output_type": "execute_result"
    }
   ],
   "source": [
    "data.lat.min(), data.lat.max()"
   ]
  },
  {
   "cell_type": "code",
   "execution_count": 58,
   "metadata": {},
   "outputs": [
    {
     "data": {
      "text/plain": [
       "(-122.51899999999999, -121.315)"
      ]
     },
     "execution_count": 58,
     "metadata": {},
     "output_type": "execute_result"
    }
   ],
   "source": [
    "data.long.min(), data.long.max()"
   ]
  },
  {
   "cell_type": "code",
   "execution_count": 59,
   "metadata": {},
   "outputs": [
    {
     "data": {
      "text/plain": [
       "(47.6624    17\n",
       " 47.5491    17\n",
       " 47.5322    17\n",
       " 47.6846    17\n",
       " 47.6711    16\n",
       "            ..\n",
       " 47.2785     1\n",
       " 47.4162     1\n",
       " 47.3870     1\n",
       " 47.2313     1\n",
       " 47.2715     1\n",
       " Name: lat, Length: 5033, dtype: int64,\n",
       " -122.290    115\n",
       " -122.300    111\n",
       " -122.362    104\n",
       " -122.291    100\n",
       " -122.372     99\n",
       "            ... \n",
       " -121.403      1\n",
       " -121.804      1\n",
       " -121.726      1\n",
       " -121.895      1\n",
       " -121.893      1\n",
       " Name: long, Length: 751, dtype: int64)"
      ]
     },
     "execution_count": 59,
     "metadata": {},
     "output_type": "execute_result"
    }
   ],
   "source": [
    "data.lat.value_counts(dropna = False), data.long.value_counts(dropna = False)"
   ]
  },
  {
   "cell_type": "code",
   "execution_count": 60,
   "metadata": {},
   "outputs": [
    {
     "data": {
      "image/png": "[encoded data removed]",
      "text/plain": [
       "<Figure size 432x288 with 1 Axes>"
      ]
     },
     "metadata": {
      "needs_background": "light"
     },
     "output_type": "display_data"
    }
   ],
   "source": [
    "data.lat.hist(); "
   ]
  },
  {
   "cell_type": "code",
   "execution_count": 61,
   "metadata": {},
   "outputs": [
    {
     "data": {
      "image/png": "[encoded data removed]",
      "text/plain": [
       "<Figure size 432x288 with 1 Axes>"
      ]
     },
     "metadata": {
      "needs_background": "light"
     },
     "output_type": "display_data"
    }
   ],
   "source": [
    "data.long.hist();"
   ]
  },
  {
   "cell_type": "markdown",
   "metadata": {},
   "source": [
    "The variables **lat** and **long** (both interval) are the latitude and longitude coordinates of the houses. They are present for every house.\n",
    "\n",
    "**Column 20 & 21 - 'sqft_living15' & 'sqft_lot'**"
   ]
  },
  {
   "cell_type": "code",
   "execution_count": 62,
   "metadata": {},
   "outputs": [
    {
     "data": {
      "text/plain": [
       "(399, 6210, 651, 871200)"
      ]
     },
     "execution_count": 62,
     "metadata": {},
     "output_type": "execute_result"
    }
   ],
   "source": [
    "data.sqft_living15.min(), data.sqft_living15.max(), data.sqft_lot15.min(), data.sqft_lot15.max()"
   ]
  },
  {
   "cell_type": "code",
   "execution_count": 63,
   "metadata": {},
   "outputs": [
    {
     "data": {
      "text/plain": [
       "1540    197\n",
       "1440    195\n",
       "1560    192\n",
       "1500    180\n",
       "1460    169\n",
       "       ... \n",
       "4890      1\n",
       "2873      1\n",
       "952       1\n",
       "3193      1\n",
       "2049      1\n",
       "Name: sqft_living15, Length: 777, dtype: int64"
      ]
     },
     "execution_count": 63,
     "metadata": {},
     "output_type": "execute_result"
    }
   ],
   "source": [
    "data.sqft_living15.value_counts(dropna = False)"
   ]
  },
  {
   "cell_type": "code",
   "execution_count": 64,
   "metadata": {},
   "outputs": [
    {
     "data": {
      "text/plain": [
       "5000      427\n",
       "4000      356\n",
       "6000      288\n",
       "7200      210\n",
       "4800      145\n",
       "         ... \n",
       "11036       1\n",
       "8989        1\n",
       "871200      1\n",
       "809         1\n",
       "6147        1\n",
       "Name: sqft_lot15, Length: 8682, dtype: int64"
      ]
     },
     "execution_count": 64,
     "metadata": {},
     "output_type": "execute_result"
    }
   ],
   "source": [
    "data.sqft_lot15.value_counts(dropna = False)"
   ]
  },
  {
   "cell_type": "code",
   "execution_count": 65,
   "metadata": {},
   "outputs": [
    {
     "data": {
      "text/plain": [
       "False    19033\n",
       "True      2563\n",
       "dtype: int64"
      ]
     },
     "execution_count": 65,
     "metadata": {},
     "output_type": "execute_result"
    }
   ],
   "source": [
    "(data.sqft_living15 == data.sqft_living).value_counts()"
   ]
  },
  {
   "cell_type": "code",
   "execution_count": 66,
   "metadata": {},
   "outputs": [],
   "source": [
    "# In 13% of cases the 15 closest neighbours have the exact same amount of living space as the house\n",
    "# This could be the case in housing schemes where different houses are identical to each other"
   ]
  },
  {
   "cell_type": "code",
   "execution_count": 67,
   "metadata": {},
   "outputs": [
    {
     "data": {
      "text/plain": [
       "False    17122\n",
       "True      4474\n",
       "dtype: int64"
      ]
     },
     "execution_count": 67,
     "metadata": {},
     "output_type": "execute_result"
    }
   ],
   "source": [
    "(data.sqft_lot15 == data.sqft_lot).value_counts()"
   ]
  },
  {
   "cell_type": "code",
   "execution_count": 68,
   "metadata": {},
   "outputs": [],
   "source": [
    "# For the lots it is even 26%. Maybe there are standardized lot sizes in certain areas\n",
    "# More investigation is required and will be performed in a later step"
   ]
  },
  {
   "cell_type": "markdown",
   "metadata": {},
   "source": [
    "The variable **sqft_living15** (interval) tracks the size of living space of the closest 15 neighbors. In some cases the number is exactly the same as the variable **sqft_living**. \n",
    "\n",
    "**sqft_lot15** (interval) does the same for the lot size.\n",
    "\n",
    "### Specifying Categorial Data\n",
    "\n",
    "Part of the Data is categorial. If we want to do a regression with categorial factors we need to either specify them as such or manually create dummy variables.\n",
    "\n",
    "There are some variables which we can either be interpreted as categorial or continous, like for example the number of bathrooms. In reality it is a categorial variable (there exists no such thing as for example 1.3 bathrooms; however specific values like .5 bathrooms do exist in the notation, although these are not literally half a room). \n",
    "\n",
    "On the other hand it would be more convenient to interpret and calculate a model with **bathrooms** as a continous variable. We will make our decision by looking at the variables in relation to the price. If there is a sufficient linear correlation we will take the variable as continous for our linear regression model."
   ]
  },
  {
   "cell_type": "code",
   "execution_count": 69,
   "metadata": {},
   "outputs": [
    {
     "data": {
      "image/png": "[encoded data removed]",
      "text/plain": [
       "<Figure size 640x480 with 1 Axes>"
      ]
     },
     "metadata": {},
     "output_type": "display_data"
    },
    {
     "data": {
      "text/plain": [
       "<ggplot: (8773223929292)>"
      ]
     },
     "execution_count": 69,
     "metadata": {},
     "output_type": "execute_result"
    }
   ],
   "source": [
    "# 'bathrooms'\n",
    "(ggplot(data, aes('bathrooms', 'price', group='bathrooms'))\n",
    "+ geom_boxplot()\n",
    "+ theme_classic())"
   ]
  },
  {
   "cell_type": "code",
   "execution_count": 70,
   "metadata": {},
   "outputs": [
    {
     "data": {
      "image/png": "[encoded data removed]",
      "text/plain": [
       "<Figure size 640x480 with 1 Axes>"
      ]
     },
     "metadata": {},
     "output_type": "display_data"
    },
    {
     "data": {
      "text/plain": [
       "<ggplot: (-9223363263632812456)>"
      ]
     },
     "execution_count": 70,
     "metadata": {},
     "output_type": "execute_result"
    }
   ],
   "source": [
    "# 'grade'\n",
    "(ggplot(data, aes('grade', 'price', group='grade')) \n",
    " + geom_boxplot()\n",
    " + theme_classic())"
   ]
  },
  {
   "cell_type": "code",
   "execution_count": 71,
   "metadata": {},
   "outputs": [],
   "source": [
    "# We clearly see an exponential relationship\n",
    "# Hower according to the assignment we can only use basic linear regression for our model\n",
    "# We can either use the data as is, knowing that we are fitting a linear regression to a non-linear relationship\n",
    "# Or we could ignore (delete) the variable, knowing that there is a clear, monotone relationship\n",
    "# Or we can create a dummy variable (and thus a coefficient) for each individual grade by conveting to a categorial\n",
    "# We will convert to a catergorial:\n",
    "data['grade']=data.grade.astype('category')"
   ]
  },
  {
   "cell_type": "code",
   "execution_count": 72,
   "metadata": {},
   "outputs": [
    {
     "data": {
      "image/png": "[encoded data removed]",
      "text/plain": [
       "<Figure size 640x480 with 1 Axes>"
      ]
     },
     "metadata": {},
     "output_type": "display_data"
    },
    {
     "data": {
      "text/plain": [
       "<ggplot: (8773222804954)>"
      ]
     },
     "execution_count": 72,
     "metadata": {},
     "output_type": "execute_result"
    }
   ],
   "source": [
    "# 'Waterfront' has only 2 values\n",
    "(ggplot(data, aes('waterfront', 'price', group='waterfront')) \n",
    "+ geom_boxplot()\n",
    "+ theme_classic())"
   ]
  },
  {
   "cell_type": "code",
   "execution_count": 73,
   "metadata": {},
   "outputs": [],
   "source": [
    "# It already is basically a dummy variable since it is a dichotome."
   ]
  },
  {
   "cell_type": "code",
   "execution_count": 74,
   "metadata": {},
   "outputs": [
    {
     "data": {
      "image/png": "[encoded data removed]",
      "text/plain": [
       "<Figure size 640x480 with 1 Axes>"
      ]
     },
     "metadata": {},
     "output_type": "display_data"
    },
    {
     "data": {
      "text/plain": [
       "<ggplot: (-9223363263637683445)>"
      ]
     },
     "execution_count": 74,
     "metadata": {},
     "output_type": "execute_result"
    }
   ],
   "source": [
    "# 'floors' \n",
    "(ggplot(data, aes('floors', 'price', group='floors')) \n",
    "+ geom_boxplot()\n",
    "+ theme_classic())"
   ]
  },
  {
   "cell_type": "code",
   "execution_count": 75,
   "metadata": {},
   "outputs": [],
   "source": [
    "# There is not a strong correlation between price and floors\n",
    "# Since in this step we do not want to interpret the relationships of variables, we will keep 'floors' for now\n",
    "# We will however convert it into a categorial since a linear relationship is not apparent\n",
    "data['floors'] = data.floors.astype('category')"
   ]
  },
  {
   "cell_type": "code",
   "execution_count": 76,
   "metadata": {},
   "outputs": [
    {
     "data": {
      "image/png": "[encoded data removed]",
      "text/plain": [
       "<Figure size 640x480 with 1 Axes>"
      ]
     },
     "metadata": {},
     "output_type": "display_data"
    },
    {
     "data": {
      "text/plain": [
       "<ggplot: (8773217957668)>"
      ]
     },
     "execution_count": 76,
     "metadata": {},
     "output_type": "execute_result"
    }
   ],
   "source": [
    "# 'condition' \n",
    "(ggplot(data, aes('condition', 'price', group='condition')) \n",
    "+ geom_boxplot()\n",
    "+ theme_classic())"
   ]
  },
  {
   "cell_type": "code",
   "execution_count": 77,
   "metadata": {},
   "outputs": [],
   "source": [
    "# We will keep condition as continous"
   ]
  },
  {
   "cell_type": "markdown",
   "metadata": {},
   "source": [
    "### Save the revised data set in a new file"
   ]
  },
  {
   "cell_type": "code",
   "execution_count": 78,
   "metadata": {},
   "outputs": [
    {
     "name": "stdout",
     "output_type": "stream",
     "text": [
      "<class 'pandas.core.frame.DataFrame'>\n",
      "Int64Index: 21596 entries, 0 to 21596\n",
      "Data columns (total 18 columns):\n",
      " #   Column         Non-Null Count  Dtype         \n",
      "---  ------         --------------  -----         \n",
      " 0   id             21596 non-null  int64         \n",
      " 1   date           21596 non-null  datetime64[ns]\n",
      " 2   price          21596 non-null  float64       \n",
      " 3   bedrooms       21596 non-null  int64         \n",
      " 4   bathrooms      21596 non-null  float64       \n",
      " 5   sqft_living    21596 non-null  int64         \n",
      " 6   sqft_lot       21596 non-null  int64         \n",
      " 7   floors         21596 non-null  category      \n",
      " 8   waterfront     19220 non-null  float64       \n",
      " 9   condition      21596 non-null  int64         \n",
      " 10  grade          21596 non-null  category      \n",
      " 11  sqft_basement  21142 non-null  float64       \n",
      " 12  yr_built       21596 non-null  int64         \n",
      " 13  zipcode        21596 non-null  int64         \n",
      " 14  lat            21596 non-null  float64       \n",
      " 15  long           21596 non-null  float64       \n",
      " 16  sqft_living15  21596 non-null  int64         \n",
      " 17  sqft_lot15     21596 non-null  int64         \n",
      "dtypes: category(2), datetime64[ns](1), float64(6), int64(9)\n",
      "memory usage: 2.8 MB\n"
     ]
    }
   ],
   "source": [
    "# Check the dataframe one last time\n",
    "data.info()"
   ]
  },
  {
   "cell_type": "code",
   "execution_count": 79,
   "metadata": {},
   "outputs": [
    {
     "data": {
      "text/html": [
       "<div>\n",
       "<style scoped>\n",
       "    .dataframe tbody tr th:only-of-type {\n",
       "        vertical-align: middle;\n",
       "    }\n",
       "\n",
       "    .dataframe tbody tr th {\n",
       "        vertical-align: top;\n",
       "    }\n",
       "\n",
       "    .dataframe thead th {\n",
       "        text-align: right;\n",
       "    }\n",
       "</style>\n",
       "<table border=\"1\" class=\"dataframe\">\n",
       "  <thead>\n",
       "    <tr style=\"text-align: right;\">\n",
       "      <th></th>\n",
       "      <th>id</th>\n",
       "      <th>price</th>\n",
       "      <th>bedrooms</th>\n",
       "      <th>bathrooms</th>\n",
       "      <th>sqft_living</th>\n",
       "      <th>sqft_lot</th>\n",
       "      <th>waterfront</th>\n",
       "      <th>condition</th>\n",
       "      <th>sqft_basement</th>\n",
       "      <th>yr_built</th>\n",
       "      <th>zipcode</th>\n",
       "      <th>lat</th>\n",
       "      <th>long</th>\n",
       "      <th>sqft_living15</th>\n",
       "      <th>sqft_lot15</th>\n",
       "    </tr>\n",
       "  </thead>\n",
       "  <tbody>\n",
       "    <tr>\n",
       "      <th>count</th>\n",
       "      <td>2.159600e+04</td>\n",
       "      <td>2.159600e+04</td>\n",
       "      <td>21596.000000</td>\n",
       "      <td>21596.000000</td>\n",
       "      <td>21596.000000</td>\n",
       "      <td>2.159600e+04</td>\n",
       "      <td>19220.000000</td>\n",
       "      <td>21596.000000</td>\n",
       "      <td>21142.000000</td>\n",
       "      <td>21596.000000</td>\n",
       "      <td>21596.000000</td>\n",
       "      <td>21596.000000</td>\n",
       "      <td>21596.000000</td>\n",
       "      <td>21596.000000</td>\n",
       "      <td>21596.000000</td>\n",
       "    </tr>\n",
       "    <tr>\n",
       "      <th>mean</th>\n",
       "      <td>4.580575e+09</td>\n",
       "      <td>5.402920e+05</td>\n",
       "      <td>3.371828</td>\n",
       "      <td>2.115843</td>\n",
       "      <td>2080.343165</td>\n",
       "      <td>1.509983e+04</td>\n",
       "      <td>0.007596</td>\n",
       "      <td>3.409752</td>\n",
       "      <td>291.838095</td>\n",
       "      <td>1971.000787</td>\n",
       "      <td>98077.950685</td>\n",
       "      <td>47.560087</td>\n",
       "      <td>-122.213977</td>\n",
       "      <td>1986.650722</td>\n",
       "      <td>12758.656649</td>\n",
       "    </tr>\n",
       "    <tr>\n",
       "      <th>std</th>\n",
       "      <td>2.876764e+09</td>\n",
       "      <td>3.673760e+05</td>\n",
       "      <td>0.904114</td>\n",
       "      <td>0.768998</td>\n",
       "      <td>918.122038</td>\n",
       "      <td>4.141355e+04</td>\n",
       "      <td>0.086827</td>\n",
       "      <td>0.650471</td>\n",
       "      <td>442.504364</td>\n",
       "      <td>29.375460</td>\n",
       "      <td>53.514040</td>\n",
       "      <td>0.138552</td>\n",
       "      <td>0.140725</td>\n",
       "      <td>685.231768</td>\n",
       "      <td>27275.018316</td>\n",
       "    </tr>\n",
       "    <tr>\n",
       "      <th>min</th>\n",
       "      <td>1.000102e+06</td>\n",
       "      <td>7.800000e+04</td>\n",
       "      <td>1.000000</td>\n",
       "      <td>0.500000</td>\n",
       "      <td>370.000000</td>\n",
       "      <td>5.200000e+02</td>\n",
       "      <td>0.000000</td>\n",
       "      <td>1.000000</td>\n",
       "      <td>0.000000</td>\n",
       "      <td>1900.000000</td>\n",
       "      <td>98001.000000</td>\n",
       "      <td>47.155900</td>\n",
       "      <td>-122.519000</td>\n",
       "      <td>399.000000</td>\n",
       "      <td>651.000000</td>\n",
       "    </tr>\n",
       "    <tr>\n",
       "      <th>25%</th>\n",
       "      <td>2.123049e+09</td>\n",
       "      <td>3.220000e+05</td>\n",
       "      <td>3.000000</td>\n",
       "      <td>1.750000</td>\n",
       "      <td>1430.000000</td>\n",
       "      <td>5.040000e+03</td>\n",
       "      <td>0.000000</td>\n",
       "      <td>3.000000</td>\n",
       "      <td>0.000000</td>\n",
       "      <td>1951.000000</td>\n",
       "      <td>98033.000000</td>\n",
       "      <td>47.471100</td>\n",
       "      <td>-122.328000</td>\n",
       "      <td>1490.000000</td>\n",
       "      <td>5100.000000</td>\n",
       "    </tr>\n",
       "    <tr>\n",
       "      <th>50%</th>\n",
       "      <td>3.904930e+09</td>\n",
       "      <td>4.500000e+05</td>\n",
       "      <td>3.000000</td>\n",
       "      <td>2.250000</td>\n",
       "      <td>1910.000000</td>\n",
       "      <td>7.619000e+03</td>\n",
       "      <td>0.000000</td>\n",
       "      <td>3.000000</td>\n",
       "      <td>0.000000</td>\n",
       "      <td>1975.000000</td>\n",
       "      <td>98065.000000</td>\n",
       "      <td>47.571800</td>\n",
       "      <td>-122.231000</td>\n",
       "      <td>1840.000000</td>\n",
       "      <td>7620.000000</td>\n",
       "    </tr>\n",
       "    <tr>\n",
       "      <th>75%</th>\n",
       "      <td>7.308950e+09</td>\n",
       "      <td>6.450000e+05</td>\n",
       "      <td>4.000000</td>\n",
       "      <td>2.500000</td>\n",
       "      <td>2550.000000</td>\n",
       "      <td>1.068550e+04</td>\n",
       "      <td>0.000000</td>\n",
       "      <td>4.000000</td>\n",
       "      <td>560.000000</td>\n",
       "      <td>1997.000000</td>\n",
       "      <td>98118.000000</td>\n",
       "      <td>47.678000</td>\n",
       "      <td>-122.125000</td>\n",
       "      <td>2360.000000</td>\n",
       "      <td>10083.000000</td>\n",
       "    </tr>\n",
       "    <tr>\n",
       "      <th>max</th>\n",
       "      <td>9.900000e+09</td>\n",
       "      <td>7.700000e+06</td>\n",
       "      <td>11.000000</td>\n",
       "      <td>8.000000</td>\n",
       "      <td>13540.000000</td>\n",
       "      <td>1.651359e+06</td>\n",
       "      <td>1.000000</td>\n",
       "      <td>5.000000</td>\n",
       "      <td>4820.000000</td>\n",
       "      <td>2015.000000</td>\n",
       "      <td>98199.000000</td>\n",
       "      <td>47.777600</td>\n",
       "      <td>-121.315000</td>\n",
       "      <td>6210.000000</td>\n",
       "      <td>871200.000000</td>\n",
       "    </tr>\n",
       "  </tbody>\n",
       "</table>\n",
       "</div>"
      ],
      "text/plain": [
       "                 id         price      bedrooms     bathrooms   sqft_living  \\\n",
       "count  2.159600e+04  2.159600e+04  21596.000000  21596.000000  21596.000000   \n",
       "mean   4.580575e+09  5.402920e+05      3.371828      2.115843   2080.343165   \n",
       "std    2.876764e+09  3.673760e+05      0.904114      0.768998    918.122038   \n",
       "min    1.000102e+06  7.800000e+04      1.000000      0.500000    370.000000   \n",
       "25%    2.123049e+09  3.220000e+05      3.000000      1.750000   1430.000000   \n",
       "50%    3.904930e+09  4.500000e+05      3.000000      2.250000   1910.000000   \n",
       "75%    7.308950e+09  6.450000e+05      4.000000      2.500000   2550.000000   \n",
       "max    9.900000e+09  7.700000e+06     11.000000      8.000000  13540.000000   \n",
       "\n",
       "           sqft_lot    waterfront     condition  sqft_basement      yr_built  \\\n",
       "count  2.159600e+04  19220.000000  21596.000000   21142.000000  21596.000000   \n",
       "mean   1.509983e+04      0.007596      3.409752     291.838095   1971.000787   \n",
       "std    4.141355e+04      0.086827      0.650471     442.504364     29.375460   \n",
       "min    5.200000e+02      0.000000      1.000000       0.000000   1900.000000   \n",
       "25%    5.040000e+03      0.000000      3.000000       0.000000   1951.000000   \n",
       "50%    7.619000e+03      0.000000      3.000000       0.000000   1975.000000   \n",
       "75%    1.068550e+04      0.000000      4.000000     560.000000   1997.000000   \n",
       "max    1.651359e+06      1.000000      5.000000    4820.000000   2015.000000   \n",
       "\n",
       "            zipcode           lat          long  sqft_living15     sqft_lot15  \n",
       "count  21596.000000  21596.000000  21596.000000   21596.000000   21596.000000  \n",
       "mean   98077.950685     47.560087   -122.213977    1986.650722   12758.656649  \n",
       "std       53.514040      0.138552      0.140725     685.231768   27275.018316  \n",
       "min    98001.000000     47.155900   -122.519000     399.000000     651.000000  \n",
       "25%    98033.000000     47.471100   -122.328000    1490.000000    5100.000000  \n",
       "50%    98065.000000     47.571800   -122.231000    1840.000000    7620.000000  \n",
       "75%    98118.000000     47.678000   -122.125000    2360.000000   10083.000000  \n",
       "max    98199.000000     47.777600   -121.315000    6210.000000  871200.000000  "
      ]
     },
     "execution_count": 79,
     "metadata": {},
     "output_type": "execute_result"
    }
   ],
   "source": [
    "data.describe()"
   ]
  },
  {
   "cell_type": "code",
   "execution_count": 80,
   "metadata": {},
   "outputs": [],
   "source": [
    "data.to_pickle('King_County_House_prices_dataset_CLEANED.pkl')"
   ]
  }
 ],
 "metadata": {
  "kernelspec": {
   "display_name": "Python 3",
   "language": "python",
   "name": "python3"
  },
  "language_info": {
   "codemirror_mode": {
    "name": "ipython",
    "version": 3
   },
   "file_extension": ".py",
   "mimetype": "text/x-python",
   "name": "python",
   "nbconvert_exporter": "python",
   "pygments_lexer": "ipython3",
   "version": "3.8.3"
  }
 },
 "nbformat": 4,
 "nbformat_minor": 4
}
