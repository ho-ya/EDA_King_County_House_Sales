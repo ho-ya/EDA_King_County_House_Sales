{
 "cells": [
  {
   "cell_type": "markdown",
   "metadata": {},
   "source": [
    "# Exploratory Data Analysis of the Kingston Housing Data - Regression Model\n",
    "\n",
    "In this notebook the 'prettier' figures used in the presentation are plottet. They only contain information already explored in the other notebooks.\n",
    "\n",
    "## Imports"
   ]
  },
  {
   "cell_type": "code",
   "execution_count": 11,
   "metadata": {},
   "outputs": [],
   "source": [
    "import numpy as np\n",
    "import pandas as pd\n",
    "from plotnine import *\n",
    "import warnings\n",
    "warnings.filterwarnings('ignore')"
   ]
  },
  {
   "cell_type": "code",
   "execution_count": 96,
   "metadata": {},
   "outputs": [],
   "source": [
    "# Load the Data Set\n",
    "data = pd.read_pickle('King_County_House_prices_dataset_CLEANED.pkl')\n",
    "\n",
    "# For the business cabse we are exploring price per sqft as we did in our final regression models\n",
    "#data['price_sqft'] = data['price'] / data['sqft_living']"
   ]
  },
  {
   "cell_type": "markdown",
   "metadata": {},
   "source": [
    "## Figure creation"
   ]
  },
  {
   "cell_type": "code",
   "execution_count": 59,
   "metadata": {},
   "outputs": [],
   "source": [
    "p=(ggplot(data, aes('yr_built', 'price/1000', group=1)) \n",
    "+ geom_boxplot(aes(group='yr_built') , \n",
    "               outlier_size = 0.01, outlier_alpha = 0.2, \n",
    "               outlier_color = \"#595959\", color=\"#dd8047\", fatten = 3)\n",
    "+ geom_boxplot(aes(group='yr_built') , outlier_size = 0.01, outlier_alpha = 0.2,\n",
    "               color=\"#595959\", fatten=0, fill=None)\n",
    "+ ylim(0,1500)\n",
    "+ labs(x=\"year built\", y=\"price in 1000 USD\")\n",
    "+ theme_classic()\n",
    "+ theme(axis_line = element_line(color = \"#595959\"),\n",
    "        axis_ticks = element_line(color = \"#595959\"),\n",
    "        text = element_text(color= \"#595959\", size = 15)))\n",
    "\n",
    "ggsave(plot=p, filename='yr_price.png', dpi=300, width=11.5, height=4.5)"
   ]
  },
  {
   "cell_type": "code",
   "execution_count": 145,
   "metadata": {},
   "outputs": [],
   "source": [
    "p=(ggplot(data, aes('yr_built')) \n",
    "+ geom_histogram(binwidth=1, color=\"#595959\", fill=\"white\")\n",
    "+ labs(x=\"year built\", y=\"amount of house sales in dataset\")\n",
    "+ theme_classic()\n",
    "+ theme(axis_line = element_line(color = \"#595959\"),\n",
    "        axis_ticks = element_line(color = \"#595959\"),\n",
    "        text = element_text(color= \"#595959\", size = 15)))\n",
    "\n",
    "\n",
    "ggsave(plot=p, filename='yr_count.png', dpi=300, width=11.5, height=4.5)"
   ]
  },
  {
   "cell_type": "code",
   "execution_count": 190,
   "metadata": {},
   "outputs": [],
   "source": [
    "# There does seem to be a slight correlation with latitude. \n",
    "# The more north we go, the better the pricing becomes\n",
    "# How about longitude?\n",
    "p=(ggplot(data, aes('long', 'lat')) \n",
    "+ geom_point(aes(colour='yr_built'), alpha=0.3, size=0.1)\n",
    "+ theme_classic()\n",
    "+ labs(x=\"degree longitude\", y=\"degree latitude\", colour = \"year built\", title = \"Sales of old and new Houses in King County\")\n",
    "+ scale_color_gradient2(low=\"#dd8047\", \n",
    "                        mid=\"white\", \n",
    "                        high=\"#94b6d2\", \n",
    "                        midpoint=1950)\n",
    "+ theme(axis_line = element_line(color = \"#595959\"),\n",
    "        axis_ticks = element_line(color = \"#595959\"),\n",
    "        text = element_text(color= \"#595959\", size = 10),\n",
    "        plot_title = element_text(size = 20),\n",
    "       legend_position = 'right'))\n",
    "\n",
    "ggsave(plot=p, filename='map.png', dpi=300, width=8, height=5)"
   ]
  },
  {
   "cell_type": "code",
   "execution_count": 102,
   "metadata": {},
   "outputs": [],
   "source": [
    "zip_subset = data.groupby('zipcode').filter(lambda x : len(x) > 1)\n",
    "\n",
    "zip_zipcodes = pd.Series(zip_subset.groupby('zipcode')['price'].median() # save the zipcodes (which are the indices)\n",
    "                         .sort_values()\n",
    "                         .index,\n",
    "                         name = 'zipcode')\n",
    "zip_price = pd.Series(zip_subset.groupby('zipcode')['price'].median() # extract the median prices\n",
    "                      .sort_values()\n",
    "                      .values, \n",
    "                      name = 'price')\n",
    "zip_std = pd.Series(zip_subset.groupby('zipcode')['price'].std() # extract the standard deviation\n",
    "                    .sort_values().\n",
    "                    values.round(), \n",
    "                    name = 'std')\n",
    "zip_order = pd.Series(range(len(zip_price)),  # we need the order to make the plot more readable\n",
    "                      name='order')\n",
    "\n",
    "zip_subset = pd.concat([zip_zipcodes, zip_order, zip_price, zip_std], axis=1)\n",
    "zip_subset['price_upper_bound'] = zip_subset['price'] + zip_subset['std']\n",
    "zip_subset['price_lower_bound'] = zip_subset['price'] - zip_subset['std']\n",
    "\n",
    "del zip_zipcodes, zip_price, zip_std, zip_order\n",
    "\n",
    "labels = [str(i) for i in zip_subset['zipcode']]"
   ]
  },
  {
   "cell_type": "code",
   "execution_count": 124,
   "metadata": {},
   "outputs": [],
   "source": [
    "p=(ggplot(zip_subset) \n",
    "+ geom_errorbar(aes(x='order',ymax='price_upper_bound/1000', ymin = 'price_lower_bound/1000'), color=\"#595959\")\n",
    "+ geom_point(aes('order','price/1000'), color =\"#595959\")\n",
    "+ geom_point(zip_subset[-4:], aes('order','price/1000'), color = \"#94b6d2\")\n",
    "+ geom_point(zip_subset[-1:], aes('order','price/1000'), color = \"#dd8047\")\n",
    "+ scale_x_continuous(breaks=range(70), labels=labels)\n",
    "+ theme_classic()\n",
    "+ labs(x=\"zipcode\", y=\"median price in 1000 USD\")\n",
    "+ theme(axis_text_x=element_text(rotation=90, size=8),\n",
    "        axis_line = element_line(color = \"#595959\"),\n",
    "        axis_ticks = element_line(color = \"#595959\"),\n",
    "        text = element_text(color= \"#595959\", size = 15)))\n",
    "\n",
    "ggsave(plot=p, filename='zipcodes.png', dpi=300, width=11.5, height=4.5)"
   ]
  },
  {
   "cell_type": "code",
   "execution_count": 130,
   "metadata": {},
   "outputs": [],
   "source": [
    "p=(ggplot(data, aes('grade', 'price/1000', group=1)) \n",
    "+ geom_boxplot(aes(group='grade') , \n",
    "               outlier_size = 0.3, outlier_alpha = 0.2, \n",
    "               outlier_color = \"#595959\", color=\"#595959\", width=0.5)\n",
    "+ theme_classic()\n",
    "+ labs(x=\"building grade\", y=\"price in 1000 USD\")\n",
    "+ theme(axis_line = element_line(color = \"#595959\"),\n",
    "        axis_ticks = element_line(color = \"#595959\"),\n",
    "        text = element_text(color= \"#595959\", size = 15)))\n",
    "\n",
    "ggsave(plot=p, filename='grade.png', dpi=300, width=11.5, height=4.5)"
   ]
  },
  {
   "cell_type": "code",
   "execution_count": 132,
   "metadata": {},
   "outputs": [],
   "source": [
    "p=(ggplot(data, aes('condition', 'price/1000', group=1)) \n",
    "+ geom_boxplot(aes(group='condition') , \n",
    "               outlier_size = 0.3, outlier_alpha = 0.2, \n",
    "               outlier_color = \"#595959\", color=\"#595959\", width=0.5)\n",
    "+ theme_classic()\n",
    "+ labs(x=\"building condition\", y=\"price in 1000 USD\")\n",
    "+ theme(axis_line = element_line(color = \"#595959\"),\n",
    "        axis_ticks = element_line(color = \"#595959\"),\n",
    "        text = element_text(color= \"#595959\", size = 15)))\n",
    "\n",
    "ggsave(plot=p, filename='condition.png', dpi=300, width=11.5, height=4.5)"
   ]
  },
  {
   "cell_type": "code",
   "execution_count": 136,
   "metadata": {},
   "outputs": [],
   "source": [
    "p=(ggplot(data, aes('bedrooms', 'price/1000')) \n",
    "+ geom_boxplot(aes(group='bedrooms') , \n",
    "               outlier_size = 0.3, outlier_alpha = 0.2, \n",
    "               outlier_color = \"#595959\", color=\"#595959\", width=0.5)\n",
    "+ geom_smooth(color = \"#dd8047\", size = .75, linetype = 'dashed', se=False)\n",
    "+ theme_classic()\n",
    "+ labs(x=\"number of bedrooms\", y=\"price in 1000 USD\")\n",
    "+ theme(axis_line = element_line(color = \"#595959\"),\n",
    "        axis_ticks = element_line(color = \"#595959\"),\n",
    "        text = element_text(color= \"#595959\", size = 15)))\n",
    "\n",
    "ggsave(plot=p, filename='bedrooms.png', dpi=300, width=11.5, height=4.5)"
   ]
  },
  {
   "cell_type": "code",
   "execution_count": 139,
   "metadata": {},
   "outputs": [],
   "source": [
    "p=(ggplot(data, aes('bathrooms', 'price/1000')) \n",
    "+ geom_boxplot(aes(group='bathrooms'), \n",
    "               outlier_size = 0.3, outlier_alpha = 0.2, \n",
    "               outlier_color = \"#595959\", color=\"#595959\")\n",
    "+ geom_smooth(color = \"#94b6d2\", size = .75, linetype = 'dashed', se=False)\n",
    "+ theme_classic()\n",
    "+ labs(x=\"number of bathrooms\", y=\"price in 1000 USD\")\n",
    "+ theme(axis_line = element_line(color = \"#595959\"),\n",
    "        axis_ticks = element_line(color = \"#595959\"),\n",
    "        text = element_text(color= \"#595959\", size = 15)))\n",
    "\n",
    "ggsave(plot=p, filename='bathrooms.png', dpi=300, width=11.5, height=4.5)"
   ]
  },
  {
   "cell_type": "code",
   "execution_count": null,
   "metadata": {},
   "outputs": [],
   "source": []
  }
 ],
 "metadata": {
  "kernelspec": {
   "display_name": "Python [conda env:nf] *",
   "language": "python",
   "name": "conda-env-nf-py"
  },
  "language_info": {
   "codemirror_mode": {
    "name": "ipython",
    "version": 3
   },
   "file_extension": ".py",
   "mimetype": "text/x-python",
   "name": "python",
   "nbconvert_exporter": "python",
   "pygments_lexer": "ipython3",
   "version": "3.6.10"
  }
 },
 "nbformat": 4,
 "nbformat_minor": 4
}
